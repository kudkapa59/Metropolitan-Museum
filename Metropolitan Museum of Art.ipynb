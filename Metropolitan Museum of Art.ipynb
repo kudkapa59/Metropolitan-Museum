{
 "cells": [
  {
   "cell_type": "code",
   "execution_count": 1,
   "id": "inclusive-invasion",
   "metadata": {},
   "outputs": [],
   "source": [
    "import numpy as np\n",
    "import pandas as pd\n",
    "import matplotlib.pyplot as plt\n",
    "import seaborn as sns\n",
    "#The following two lines are important to use plotly offline\n",
    "from plotly.offline import download_plotlyjs, init_notebook_mode, plot, iplot\n",
    "import plotly.graph_objs as go\n",
    "%matplotlib inline\n",
    "sns.set()"
   ]
  },
  {
   "cell_type": "code",
   "execution_count": 2,
   "id": "oriented-converter",
   "metadata": {},
   "outputs": [
    {
     "name": "stderr",
     "output_type": "stream",
     "text": [
      "/root/anaconda3/envs/rpz/lib/python3.8/site-packages/IPython/core/interactiveshell.py:3155: DtypeWarning:\n",
      "\n",
      "Columns (5,7,10,11,12,13,14,22,34,35,36,37,38,39,40,41,42,43,44,46) have mixed types.Specify dtype option on import or set low_memory=False.\n",
      "\n"
     ]
    }
   ],
   "source": [
    "museum_set = pd.read_csv('MetObjects.csv')"
   ]
  },
  {
   "cell_type": "code",
   "execution_count": 3,
   "id": "nasty-killer",
   "metadata": {},
   "outputs": [
    {
     "data": {
      "text/html": [
       "<div>\n",
       "<style scoped>\n",
       "    .dataframe tbody tr th:only-of-type {\n",
       "        vertical-align: middle;\n",
       "    }\n",
       "\n",
       "    .dataframe tbody tr th {\n",
       "        vertical-align: top;\n",
       "    }\n",
       "\n",
       "    .dataframe thead th {\n",
       "        text-align: right;\n",
       "    }\n",
       "</style>\n",
       "<table border=\"1\" class=\"dataframe\">\n",
       "  <thead>\n",
       "    <tr style=\"text-align: right;\">\n",
       "      <th></th>\n",
       "      <th>Object Number</th>\n",
       "      <th>Gallery Number</th>\n",
       "      <th>Department</th>\n",
       "      <th>AccessionYear</th>\n",
       "      <th>Object Name</th>\n",
       "      <th>Title</th>\n",
       "      <th>Culture</th>\n",
       "      <th>Period</th>\n",
       "      <th>Dynasty</th>\n",
       "      <th>Reign</th>\n",
       "      <th>...</th>\n",
       "      <th>Excavation</th>\n",
       "      <th>River</th>\n",
       "      <th>Classification</th>\n",
       "      <th>Rights and Reproduction</th>\n",
       "      <th>Link Resource</th>\n",
       "      <th>Object Wikidata URL</th>\n",
       "      <th>Repository</th>\n",
       "      <th>Tags</th>\n",
       "      <th>Tags AAT URL</th>\n",
       "      <th>Tags Wikidata URL</th>\n",
       "    </tr>\n",
       "  </thead>\n",
       "  <tbody>\n",
       "    <tr>\n",
       "      <th>count</th>\n",
       "      <td>475527</td>\n",
       "      <td>39561</td>\n",
       "      <td>475527</td>\n",
       "      <td>471009.0</td>\n",
       "      <td>474108</td>\n",
       "      <td>446196</td>\n",
       "      <td>206943</td>\n",
       "      <td>90692</td>\n",
       "      <td>23201</td>\n",
       "      <td>11191</td>\n",
       "      <td>...</td>\n",
       "      <td>16001</td>\n",
       "      <td>2098</td>\n",
       "      <td>400984</td>\n",
       "      <td>23720</td>\n",
       "      <td>475527</td>\n",
       "      <td>22205</td>\n",
       "      <td>475527</td>\n",
       "      <td>216654</td>\n",
       "      <td>216182</td>\n",
       "      <td>214837</td>\n",
       "    </tr>\n",
       "    <tr>\n",
       "      <th>unique</th>\n",
       "      <td>472730</td>\n",
       "      <td>619</td>\n",
       "      <td>19</td>\n",
       "      <td>266.0</td>\n",
       "      <td>28360</td>\n",
       "      <td>236946</td>\n",
       "      <td>7130</td>\n",
       "      <td>1859</td>\n",
       "      <td>399</td>\n",
       "      <td>387</td>\n",
       "      <td>...</td>\n",
       "      <td>386</td>\n",
       "      <td>229</td>\n",
       "      <td>1190</td>\n",
       "      <td>1371</td>\n",
       "      <td>475527</td>\n",
       "      <td>22158</td>\n",
       "      <td>1</td>\n",
       "      <td>47289</td>\n",
       "      <td>45820</td>\n",
       "      <td>46739</td>\n",
       "    </tr>\n",
       "    <tr>\n",
       "      <th>top</th>\n",
       "      <td>62.635</td>\n",
       "      <td>774</td>\n",
       "      <td>Drawings and Prints</td>\n",
       "      <td>1963.0</td>\n",
       "      <td>Print</td>\n",
       "      <td>Terracotta fragment of a kylix (drinking cup)</td>\n",
       "      <td>American</td>\n",
       "      <td>Edo period (1615–1868)</td>\n",
       "      <td>Dynasty 18</td>\n",
       "      <td>reign of Amenhotep III</td>\n",
       "      <td>...</td>\n",
       "      <td>MMA excavations</td>\n",
       "      <td>Upper Sepik River</td>\n",
       "      <td>Prints</td>\n",
       "      <td>© Walker Evans Archive, The Metropolitan Museu...</td>\n",
       "      <td>http://www.metmuseum.org/art/collection/search...</td>\n",
       "      <td>https://www.wikidata.org/wiki/Q97732991</td>\n",
       "      <td>Metropolitan Museum of Art, New York, NY</td>\n",
       "      <td>Flowers</td>\n",
       "      <td>http://vocab.getty.edu/page/aat/300132399</td>\n",
       "      <td>https://www.wikidata.org/wiki/Q506</td>\n",
       "    </tr>\n",
       "    <tr>\n",
       "      <th>freq</th>\n",
       "      <td>4</td>\n",
       "      <td>7056</td>\n",
       "      <td>165956</td>\n",
       "      <td>34362.0</td>\n",
       "      <td>98632</td>\n",
       "      <td>6415</td>\n",
       "      <td>28253</td>\n",
       "      <td>9077</td>\n",
       "      <td>7163</td>\n",
       "      <td>2727</td>\n",
       "      <td>...</td>\n",
       "      <td>2440</td>\n",
       "      <td>362</td>\n",
       "      <td>80135</td>\n",
       "      <td>7243</td>\n",
       "      <td>1</td>\n",
       "      <td>17</td>\n",
       "      <td>475527</td>\n",
       "      <td>8670</td>\n",
       "      <td>8681</td>\n",
       "      <td>8673</td>\n",
       "    </tr>\n",
       "  </tbody>\n",
       "</table>\n",
       "<p>4 rows × 47 columns</p>\n",
       "</div>"
      ],
      "text/plain": [
       "       Object Number Gallery Number           Department  AccessionYear  \\\n",
       "count         475527          39561               475527       471009.0   \n",
       "unique        472730            619                   19          266.0   \n",
       "top           62.635            774  Drawings and Prints         1963.0   \n",
       "freq               4           7056               165956        34362.0   \n",
       "\n",
       "       Object Name                                          Title   Culture  \\\n",
       "count       474108                                         446196    206943   \n",
       "unique       28360                                         236946      7130   \n",
       "top          Print  Terracotta fragment of a kylix (drinking cup)  American   \n",
       "freq         98632                                           6415     28253   \n",
       "\n",
       "                        Period     Dynasty                   Reign  ...  \\\n",
       "count                    90692       23201                   11191  ...   \n",
       "unique                    1859         399                     387  ...   \n",
       "top     Edo period (1615–1868)  Dynasty 18  reign of Amenhotep III  ...   \n",
       "freq                      9077        7163                    2727  ...   \n",
       "\n",
       "             Excavation              River Classification  \\\n",
       "count             16001               2098         400984   \n",
       "unique              386                229           1190   \n",
       "top     MMA excavations  Upper Sepik River         Prints   \n",
       "freq               2440                362          80135   \n",
       "\n",
       "                                  Rights and Reproduction  \\\n",
       "count                                               23720   \n",
       "unique                                               1371   \n",
       "top     © Walker Evans Archive, The Metropolitan Museu...   \n",
       "freq                                                 7243   \n",
       "\n",
       "                                            Link Resource  \\\n",
       "count                                              475527   \n",
       "unique                                             475527   \n",
       "top     http://www.metmuseum.org/art/collection/search...   \n",
       "freq                                                    1   \n",
       "\n",
       "                            Object Wikidata URL  \\\n",
       "count                                     22205   \n",
       "unique                                    22158   \n",
       "top     https://www.wikidata.org/wiki/Q97732991   \n",
       "freq                                         17   \n",
       "\n",
       "                                      Repository     Tags  \\\n",
       "count                                     475527   216654   \n",
       "unique                                         1    47289   \n",
       "top     Metropolitan Museum of Art, New York, NY  Flowers   \n",
       "freq                                      475527     8670   \n",
       "\n",
       "                                     Tags AAT URL  \\\n",
       "count                                      216182   \n",
       "unique                                      45820   \n",
       "top     http://vocab.getty.edu/page/aat/300132399   \n",
       "freq                                         8681   \n",
       "\n",
       "                         Tags Wikidata URL  \n",
       "count                               214837  \n",
       "unique                               46739  \n",
       "top     https://www.wikidata.org/wiki/Q506  \n",
       "freq                                  8673  \n",
       "\n",
       "[4 rows x 47 columns]"
      ]
     },
     "execution_count": 3,
     "metadata": {},
     "output_type": "execute_result"
    }
   ],
   "source": [
    "museum_set.describe(include=['O'])"
   ]
  },
  {
   "cell_type": "code",
   "execution_count": 4,
   "id": "sudden-frontier",
   "metadata": {},
   "outputs": [
    {
     "data": {
      "text/plain": [
       "(475527, 54)"
      ]
     },
     "execution_count": 4,
     "metadata": {},
     "output_type": "execute_result"
    }
   ],
   "source": [
    "museum_set.shape"
   ]
  },
  {
   "cell_type": "code",
   "execution_count": 5,
   "id": "expired-agent",
   "metadata": {},
   "outputs": [
    {
     "name": "stdout",
     "output_type": "stream",
     "text": [
      "Object Number 0.00%\n",
      "Is Highlight 0.00%\n",
      "Is Timeline Work 0.00%\n",
      "Is Public Domain 0.00%\n",
      "Object ID 0.00%\n",
      "Gallery Number 91.68%\n",
      "Department 0.00%\n",
      "AccessionYear 0.95%\n",
      "Object Name 0.30%\n",
      "Title 6.17%\n",
      "Culture 56.48%\n",
      "Period 80.93%\n",
      "Dynasty 95.12%\n",
      "Reign 97.65%\n",
      "Portfolio 95.09%\n",
      "Constiuent ID 42.51%\n",
      "Artist Role 42.95%\n",
      "Artist Prefix 81.11%\n",
      "Artist Display Name 42.51%\n",
      "Artist Display Bio 50.66%\n",
      "Artist Suffix 97.48%\n",
      "Artist Alpha Sort 42.51%\n",
      "Artist Nationality 61.65%\n",
      "Artist Begin Date 50.13%\n",
      "Artist End Date 50.14%\n",
      "Artist Gender 78.60%\n",
      "Artist ULAN URL 55.12%\n",
      "Artist Wikidata URL 56.08%\n",
      "Object Date 3.06%\n",
      "Object Begin Date 0.00%\n",
      "Object End Date 0.00%\n",
      "Medium 1.49%\n",
      "Dimensions 15.86%\n",
      "Credit Line 0.08%\n",
      "Geography Type 87.48%\n",
      "City 93.27%\n",
      "State 99.47%\n",
      "County 98.24%\n",
      "Country 84.13%\n",
      "Region 93.41%\n",
      "Subregion 95.36%\n",
      "Locale 96.72%\n",
      "Locus 98.44%\n",
      "Excavation 96.64%\n",
      "River 99.56%\n",
      "Classification 15.68%\n",
      "Rights and Reproduction 95.01%\n",
      "Link Resource 0.00%\n",
      "Object Wikidata URL 95.33%\n",
      "Metadata Date 100.00%\n",
      "Repository 0.00%\n",
      "Tags 54.44%\n",
      "Tags AAT URL 54.54%\n",
      "Tags Wikidata URL 54.82%\n",
      "['Dynasty', 'Reign', 'Portfolio', 'Artist Suffix', 'State', 'County', 'Subregion', 'Locale', 'Locus', 'Excavation', 'River', 'Rights and Reproduction', 'Object Wikidata URL', 'Metadata Date']\n",
      "14\n"
     ]
    }
   ],
   "source": [
    "columns_to_drop = []\n",
    "for i in museum_set.columns:\n",
    "    if museum_set[i].isnull().sum()/museum_set.shape[0] >= 0.95:\n",
    "        columns_to_drop.append(i)\n",
    "    print(i,f\"{100*museum_set[i].isnull().sum()/museum_set.shape[0]:.2f}%\")\n",
    "print(columns_to_drop)\n",
    "print(len(columns_to_drop))"
   ]
  },
  {
   "cell_type": "code",
   "execution_count": 6,
   "id": "unusual-distance",
   "metadata": {},
   "outputs": [
    {
     "data": {
      "text/plain": [
       "52.015354660314884"
      ]
     },
     "execution_count": 6,
     "metadata": {},
     "output_type": "execute_result"
    }
   ],
   "source": [
    "# 1.3 \n",
    "# Looks like a lot of missing values, but let's evaluate them in percents \n",
    "total_cells = np.product(museum_set.shape) # total cells\n",
    "total_missing = museum_set.isnull().sum().sum() # total cells without values\n",
    "\n",
    "# percent of data that is missing\n",
    "(total_missing/total_cells) * 100"
   ]
  },
  {
   "cell_type": "code",
   "execution_count": 7,
   "id": "suffering-student",
   "metadata": {},
   "outputs": [
    {
     "data": {
      "text/plain": [
       "38.888888888888886"
      ]
     },
     "execution_count": 7,
     "metadata": {},
     "output_type": "execute_result"
    }
   ],
   "source": [
    "21*100/54"
   ]
  },
  {
   "cell_type": "markdown",
   "id": "driving-fitting",
   "metadata": {},
   "source": [
    "52.02% of data is missing. 39% of features miss 80% of their data. Features['Dynasty', 'Reign', 'Portfolio', 'Artist Suffix', 'State', 'County', 'Subregion', 'Locale', 'Locus', 'Excavation', 'River', 'Rights and Reproduction', 'Object Wikidata URL', 'Metadata Date'] don't have 95% of the data. 'Metadata Date' doesn't have any data at all. As we know it's the Date metadata was last updated, for some reason it doesn't have its values.\n",
    "All columns with missing values except for 'Metadata Date' have Object type. All columns with int or float type don't have missing values. "
   ]
  },
  {
   "cell_type": "code",
   "execution_count": 8,
   "id": "affecting-salon",
   "metadata": {},
   "outputs": [],
   "source": [
    "string_cols = [i for i in museum_set.columns if museum_set[i].dtypes=='O']\n",
    "for i in string_cols:\n",
    "    museum_set[i] = museum_set[i].str.lower()\n",
    "    museum_set[i] = museum_set[i].str.strip()"
   ]
  },
  {
   "cell_type": "markdown",
   "id": "spectacular-exchange",
   "metadata": {},
   "source": [
    "I made all letters lowercase and deleted trailing whitespaces."
   ]
  },
  {
   "cell_type": "code",
   "execution_count": 9,
   "id": "sought-phoenix",
   "metadata": {},
   "outputs": [
    {
     "data": {
      "text/html": [
       "<div>\n",
       "<style scoped>\n",
       "    .dataframe tbody tr th:only-of-type {\n",
       "        vertical-align: middle;\n",
       "    }\n",
       "\n",
       "    .dataframe tbody tr th {\n",
       "        vertical-align: top;\n",
       "    }\n",
       "\n",
       "    .dataframe thead th {\n",
       "        text-align: right;\n",
       "    }\n",
       "</style>\n",
       "<table border=\"1\" class=\"dataframe\">\n",
       "  <thead>\n",
       "    <tr style=\"text-align: right;\">\n",
       "      <th></th>\n",
       "      <th>Object Number</th>\n",
       "      <th>Is Highlight</th>\n",
       "      <th>Is Timeline Work</th>\n",
       "      <th>Is Public Domain</th>\n",
       "      <th>Object ID</th>\n",
       "      <th>Gallery Number</th>\n",
       "      <th>Department</th>\n",
       "      <th>AccessionYear</th>\n",
       "      <th>Object Name</th>\n",
       "      <th>Title</th>\n",
       "      <th>...</th>\n",
       "      <th>River</th>\n",
       "      <th>Classification</th>\n",
       "      <th>Rights and Reproduction</th>\n",
       "      <th>Link Resource</th>\n",
       "      <th>Object Wikidata URL</th>\n",
       "      <th>Metadata Date</th>\n",
       "      <th>Repository</th>\n",
       "      <th>Tags</th>\n",
       "      <th>Tags AAT URL</th>\n",
       "      <th>Tags Wikidata URL</th>\n",
       "    </tr>\n",
       "  </thead>\n",
       "  <tbody>\n",
       "  </tbody>\n",
       "</table>\n",
       "<p>0 rows × 54 columns</p>\n",
       "</div>"
      ],
      "text/plain": [
       "Empty DataFrame\n",
       "Columns: [Object Number, Is Highlight, Is Timeline Work, Is Public Domain, Object ID, Gallery Number, Department, AccessionYear, Object Name, Title, Culture, Period, Dynasty, Reign, Portfolio, Constiuent ID, Artist Role, Artist Prefix, Artist Display Name, Artist Display Bio, Artist Suffix, Artist Alpha Sort, Artist Nationality, Artist Begin Date, Artist End Date, Artist Gender, Artist ULAN URL, Artist Wikidata URL, Object Date, Object Begin Date, Object End Date, Medium, Dimensions, Credit Line, Geography Type, City, State, County, Country, Region, Subregion, Locale, Locus, Excavation, River, Classification, Rights and Reproduction, Link Resource, Object Wikidata URL, Metadata Date, Repository, Tags, Tags AAT URL, Tags Wikidata URL]\n",
       "Index: []\n",
       "\n",
       "[0 rows x 54 columns]"
      ]
     },
     "execution_count": 9,
     "metadata": {},
     "output_type": "execute_result"
    }
   ],
   "source": [
    "museum_set[museum_set.duplicated(subset=['Object ID'], keep=False)]"
   ]
  },
  {
   "cell_type": "markdown",
   "id": "alternate-scotland",
   "metadata": {},
   "source": [
    "Object ID doesn't have any repeating values and can be used as primary key. "
   ]
  },
  {
   "cell_type": "code",
   "execution_count": 10,
   "id": "hydraulic-positive",
   "metadata": {},
   "outputs": [
    {
     "data": {
      "text/plain": [
       "walker evans                                                                      7433\n",
       "kinney brothers tobacco company                                                   4163\n",
       "unknown                                                                           3558\n",
       "w. duke, sons & co.                                                               3088\n",
       "allen & ginter                                                                    2960\n",
       "                                                                                  ... \n",
       "currier & ives|parsons & atwater|lyman wetmore atwater|charles richard parsons       2\n",
       "winslow homer|james r. osgood & co.                                                  2\n",
       "marco angolo del moro|parmigianino (girolamo francesco maria mazzola)                2\n",
       "hans watzek                                                                          2\n",
       "jean urbain guérin                                                                   2\n",
       "Name: Artist Display Name, Length: 18856, dtype: int64"
      ]
     },
     "execution_count": 10,
     "metadata": {},
     "output_type": "execute_result"
    }
   ],
   "source": [
    "museum_set[museum_set.duplicated(subset=['Artist Display Name'], keep=False)].sort_values(by=['Artist Display Name'])['Artist Display Name'].value_counts()"
   ]
  },
  {
   "cell_type": "markdown",
   "id": "overhead-acceptance",
   "metadata": {},
   "source": [
    "Here we see top authors"
   ]
  },
  {
   "cell_type": "code",
   "execution_count": null,
   "id": "delayed-assessment",
   "metadata": {},
   "outputs": [],
   "source": []
  },
  {
   "cell_type": "markdown",
   "id": "positive-israeli",
   "metadata": {},
   "source": []
  },
  {
   "cell_type": "code",
   "execution_count": 11,
   "id": "combined-dress",
   "metadata": {},
   "outputs": [],
   "source": [
    "for i in string_cols:\n",
    "    museum_set[i].fillna('missing',inplace = True)"
   ]
  },
  {
   "cell_type": "markdown",
   "id": "composite-geography",
   "metadata": {},
   "source": []
  },
  {
   "cell_type": "code",
   "execution_count": 125,
   "id": "athletic-voice",
   "metadata": {},
   "outputs": [],
   "source": [
    "def value_count(col):\n",
    "    artists = pd.DataFrame(museum_set[col].value_counts())\n",
    "    artists.columns=['Count of works']\n",
    "    artists[col] = artists.index.tolist()\n",
    "    artists.sort_values(by=\"Count of works\",ascending=False)\n",
    "    artists = artists.reset_index(drop=True)\n",
    "    artists = artists.drop(artists[artists[col]=='missing'].index)\n",
    "    artists = artists.drop(artists[artists[col]=='unknown'].index)\n",
    "    return artists"
   ]
  },
  {
   "cell_type": "code",
   "execution_count": 13,
   "id": "weighted-concept",
   "metadata": {},
   "outputs": [],
   "source": [
    "from plotly.offline import init_notebook_mode, plot_mpl"
   ]
  },
  {
   "cell_type": "code",
   "execution_count": 152,
   "id": "everyday-daily",
   "metadata": {},
   "outputs": [],
   "source": [
    "def piechart(artists,col,titl,c=1000):\n",
    "    plt.figure(figsize=(80,80))\n",
    "    #plt.title(title)\n",
    "    temp = artists[artists['Count of works']>=c]\n",
    "    init_notebook_mode(connected=True)\n",
    "    labels=temp[col]\n",
    "    values=temp['Count of works']\n",
    "    data=[go.Pie(labels=labels,values=values)]\n",
    "    #data.update_layout(title=titl)\n",
    "    fig = go.Figure(data)\n",
    "    fig.layout.update(\n",
    "        title={\n",
    "            'text': titl,\n",
    "            'xanchor': 'right',\n",
    "            'yanchor': 'top'})\n",
    "    fig.show()\n",
    "    #plot_mpl(fig)\n",
    "    fig.write_image(col+\".png\") "
   ]
  },
  {
   "cell_type": "markdown",
   "id": "addressed-columbia",
   "metadata": {},
   "source": [
    "### Who are the most popular artists?"
   ]
  },
  {
   "cell_type": "markdown",
   "id": "offshore-ending",
   "metadata": {},
   "source": [
    "We chose here column Artist Alpha Sort."
   ]
  },
  {
   "cell_type": "code",
   "execution_count": 153,
   "id": "baking-hampshire",
   "metadata": {},
   "outputs": [
    {
     "data": {
      "text/html": [
       "        <script type=\"text/javascript\">\n",
       "        window.PlotlyConfig = {MathJaxConfig: 'local'};\n",
       "        if (window.MathJax) {MathJax.Hub.Config({SVG: {font: \"STIX-Web\"}});}\n",
       "        if (typeof require !== 'undefined') {\n",
       "        require.undef(\"plotly\");\n",
       "        requirejs.config({\n",
       "            paths: {\n",
       "                'plotly': ['https://cdn.plot.ly/plotly-latest.min']\n",
       "            }\n",
       "        });\n",
       "        require(['plotly'], function(Plotly) {\n",
       "            window._Plotly = Plotly;\n",
       "        });\n",
       "        }\n",
       "        </script>\n",
       "        "
      ]
     },
     "metadata": {},
     "output_type": "display_data"
    },
    {
     "data": {
      "application/vnd.plotly.v1+json": {
       "config": {
        "plotlyServerURL": "https://plot.ly"
       },
       "data": [
        {
         "labels": [
          "evans, walker",
          "kinney brothers tobacco company",
          "duke, w. sons & co.",
          "allen & ginter",
          "brewster & co.",
          "goodwin & company",
          "topps chewing gum company",
          "american tobacco company",
          "exhibit supply company",
          "anonymous",
          "anonymous, british, 19th century",
          "marsh, reginald"
         ],
         "type": "pie",
         "uid": "8d21d53a-7c02-4d41-b64c-740327646064",
         "values": [
          7433,
          4163,
          3088,
          2960,
          2742,
          2652,
          2273,
          2067,
          1522,
          1116,
          1021,
          1005
         ]
        }
       ],
       "layout": {
        "title": {
         "text": "Artist with the most contributions",
         "xanchor": "right",
         "yanchor": "top"
        }
       }
      },
      "text/html": [
       "<div>\n",
       "        \n",
       "        \n",
       "            <div id=\"31851af9-0352-4631-a971-a3e741451d11\" class=\"plotly-graph-div\" style=\"height:525px; width:100%;\"></div>\n",
       "            <script type=\"text/javascript\">\n",
       "                require([\"plotly\"], function(Plotly) {\n",
       "                    window.PLOTLYENV=window.PLOTLYENV || {};\n",
       "                    window.PLOTLYENV.BASE_URL='https://plot.ly';\n",
       "                    \n",
       "                if (document.getElementById(\"31851af9-0352-4631-a971-a3e741451d11\")) {\n",
       "                    Plotly.newPlot(\n",
       "                        '31851af9-0352-4631-a971-a3e741451d11',\n",
       "                        [{\"labels\": [\"evans, walker\", \"kinney brothers tobacco company\", \"duke, w. sons & co.\", \"allen & ginter\", \"brewster & co.\", \"goodwin & company\", \"topps chewing gum company\", \"american tobacco company\", \"exhibit supply company\", \"anonymous\", \"anonymous, british, 19th century\", \"marsh, reginald\"], \"type\": \"pie\", \"uid\": \"8d21d53a-7c02-4d41-b64c-740327646064\", \"values\": [7433, 4163, 3088, 2960, 2742, 2652, 2273, 2067, 1522, 1116, 1021, 1005]}],\n",
       "                        {\"title\": {\"text\": \"Artist with the most contributions\", \"xanchor\": \"right\", \"yanchor\": \"top\"}},\n",
       "                        {\"plotlyServerURL\": \"https://plot.ly\", \"responsive\": true}\n",
       "                    ).then(function(){\n",
       "                            \n",
       "var gd = document.getElementById('31851af9-0352-4631-a971-a3e741451d11');\n",
       "var x = new MutationObserver(function (mutations, observer) {{\n",
       "        var display = window.getComputedStyle(gd).display;\n",
       "        if (!display || display === 'none') {{\n",
       "            console.log([gd, 'removed!']);\n",
       "            Plotly.purge(gd);\n",
       "            observer.disconnect();\n",
       "        }}\n",
       "}});\n",
       "\n",
       "// Listen for the removal of the full notebook cells\n",
       "var notebookContainer = gd.closest('#notebook-container');\n",
       "if (notebookContainer) {{\n",
       "    x.observe(notebookContainer, {childList: true});\n",
       "}}\n",
       "\n",
       "// Listen for the clearing of the current output cell\n",
       "var outputEl = gd.closest('.output');\n",
       "if (outputEl) {{\n",
       "    x.observe(outputEl, {childList: true});\n",
       "}}\n",
       "\n",
       "                        })\n",
       "                };\n",
       "                });\n",
       "            </script>\n",
       "        </div>"
      ]
     },
     "metadata": {},
     "output_type": "display_data"
    },
    {
     "data": {
      "text/plain": [
       "<Figure size 5760x5760 with 0 Axes>"
      ]
     },
     "metadata": {},
     "output_type": "display_data"
    }
   ],
   "source": [
    "artists = value_count('Artist Alpha Sort')\n",
    "#artists = artists.drop(artists[artists['Artist Alpha Sort']=='missing'].index)\n",
    "piechart(artists,'Artist Alpha Sort','Artist with the most contributions')"
   ]
  },
  {
   "cell_type": "markdown",
   "id": "verbal-present",
   "metadata": {},
   "source": [
    "Choosing column 'Artist Display Name'"
   ]
  },
  {
   "cell_type": "markdown",
   "id": "theoretical-order",
   "metadata": {},
   "source": [
    "Main contributors to the museum are companies(what do they bring?), unknown authors. Exception is the American photographer Walker Evans with recording 7433 instances of art. \n",
    "\n",
    "As we see the biggest contribution to the museum is made by Walker Evans, a famous protographer. Also  For some reason the first graph doesn't contain Anonymous in it."
   ]
  },
  {
   "cell_type": "code",
   "execution_count": 154,
   "id": "double-cornwall",
   "metadata": {},
   "outputs": [
    {
     "data": {
      "text/plain": [
       "Culture    3558\n",
       "dtype: int64"
      ]
     },
     "execution_count": 154,
     "metadata": {},
     "output_type": "execute_result"
    }
   ],
   "source": [
    "museum_set[['Culture']].loc[museum_set['Artist Display Name'] == 'unknown'].count()"
   ]
  },
  {
   "cell_type": "markdown",
   "id": "norwegian-contact",
   "metadata": {},
   "source": [
    "56.48% of Culture information is lost, 84% of Country is lost. Only 1.7% of Culture of Unknown authors is known. Most of them is from USA. Is it correlated with LOCATION OF THE MUSEUM IN USA. IS IT CONNECTED? CHECK CORRELATION BETWEEN TWO ATTRIBUTES."
   ]
  },
  {
   "cell_type": "markdown",
   "id": "spectacular-warrior",
   "metadata": {},
   "source": [
    "## The most popular nationality"
   ]
  },
  {
   "cell_type": "code",
   "execution_count": 155,
   "id": "forty-residence",
   "metadata": {},
   "outputs": [
    {
     "data": {
      "text/html": [
       "        <script type=\"text/javascript\">\n",
       "        window.PlotlyConfig = {MathJaxConfig: 'local'};\n",
       "        if (window.MathJax) {MathJax.Hub.Config({SVG: {font: \"STIX-Web\"}});}\n",
       "        if (typeof require !== 'undefined') {\n",
       "        require.undef(\"plotly\");\n",
       "        requirejs.config({\n",
       "            paths: {\n",
       "                'plotly': ['https://cdn.plot.ly/plotly-latest.min']\n",
       "            }\n",
       "        });\n",
       "        require(['plotly'], function(Plotly) {\n",
       "            window._Plotly = Plotly;\n",
       "        });\n",
       "        }\n",
       "        </script>\n",
       "        "
      ]
     },
     "metadata": {},
     "output_type": "display_data"
    },
    {
     "data": {
      "application/vnd.plotly.v1+json": {
       "config": {
        "plotlyServerURL": "https://plot.ly"
       },
       "data": [
        {
         "labels": [
          "american",
          "french",
          "italian",
          "french|french",
          "british",
          "german",
          "american|american",
          "japanese",
          "italian|italian",
          "french|french|french",
          "british|british",
          "dutch",
          "chinese",
          "austrian",
          "netherlandish",
          "german|german",
          "spanish",
          "british|british|british",
          "netherlandish|netherlandish",
          "american|american|american"
         ],
         "type": "pie",
         "uid": "0f7c2a99-5faf-4d6d-80b8-a4e5d10aab94",
         "values": [
          52305,
          18589,
          12453,
          9132,
          8510,
          7328,
          7133,
          6111,
          4541,
          4119,
          2586,
          2445,
          2014,
          1459,
          1395,
          1239,
          1230,
          1130,
          1047,
          1003
         ]
        }
       ],
       "layout": {
        "title": {
         "text": "Most Common Nationality",
         "xanchor": "right",
         "yanchor": "top"
        }
       }
      },
      "text/html": [
       "<div>\n",
       "        \n",
       "        \n",
       "            <div id=\"7e0c938a-c87e-457a-bb6b-e5fb3b2a35fd\" class=\"plotly-graph-div\" style=\"height:525px; width:100%;\"></div>\n",
       "            <script type=\"text/javascript\">\n",
       "                require([\"plotly\"], function(Plotly) {\n",
       "                    window.PLOTLYENV=window.PLOTLYENV || {};\n",
       "                    window.PLOTLYENV.BASE_URL='https://plot.ly';\n",
       "                    \n",
       "                if (document.getElementById(\"7e0c938a-c87e-457a-bb6b-e5fb3b2a35fd\")) {\n",
       "                    Plotly.newPlot(\n",
       "                        '7e0c938a-c87e-457a-bb6b-e5fb3b2a35fd',\n",
       "                        [{\"labels\": [\"american\", \"french\", \"italian\", \"french|french\", \"british\", \"german\", \"american|american\", \"japanese\", \"italian|italian\", \"french|french|french\", \"british|british\", \"dutch\", \"chinese\", \"austrian\", \"netherlandish\", \"german|german\", \"spanish\", \"british|british|british\", \"netherlandish|netherlandish\", \"american|american|american\"], \"type\": \"pie\", \"uid\": \"0f7c2a99-5faf-4d6d-80b8-a4e5d10aab94\", \"values\": [52305, 18589, 12453, 9132, 8510, 7328, 7133, 6111, 4541, 4119, 2586, 2445, 2014, 1459, 1395, 1239, 1230, 1130, 1047, 1003]}],\n",
       "                        {\"title\": {\"text\": \"Most Common Nationality\", \"xanchor\": \"right\", \"yanchor\": \"top\"}},\n",
       "                        {\"plotlyServerURL\": \"https://plot.ly\", \"responsive\": true}\n",
       "                    ).then(function(){\n",
       "                            \n",
       "var gd = document.getElementById('7e0c938a-c87e-457a-bb6b-e5fb3b2a35fd');\n",
       "var x = new MutationObserver(function (mutations, observer) {{\n",
       "        var display = window.getComputedStyle(gd).display;\n",
       "        if (!display || display === 'none') {{\n",
       "            console.log([gd, 'removed!']);\n",
       "            Plotly.purge(gd);\n",
       "            observer.disconnect();\n",
       "        }}\n",
       "}});\n",
       "\n",
       "// Listen for the removal of the full notebook cells\n",
       "var notebookContainer = gd.closest('#notebook-container');\n",
       "if (notebookContainer) {{\n",
       "    x.observe(notebookContainer, {childList: true});\n",
       "}}\n",
       "\n",
       "// Listen for the clearing of the current output cell\n",
       "var outputEl = gd.closest('.output');\n",
       "if (outputEl) {{\n",
       "    x.observe(outputEl, {childList: true});\n",
       "}}\n",
       "\n",
       "                        })\n",
       "                };\n",
       "                });\n",
       "            </script>\n",
       "        </div>"
      ]
     },
     "metadata": {},
     "output_type": "display_data"
    },
    {
     "data": {
      "text/plain": [
       "<Figure size 5760x5760 with 0 Axes>"
      ]
     },
     "metadata": {},
     "output_type": "display_data"
    }
   ],
   "source": [
    "nationalities = value_count('Artist Nationality')\n",
    "piechart(nationalities,'Artist Nationality','Most Common Nationality')"
   ]
  },
  {
   "cell_type": "markdown",
   "id": "proud-wrestling",
   "metadata": {},
   "source": [
    "33.9% of known nationalities are Americans. We can find out what culture they are from."
   ]
  },
  {
   "cell_type": "code",
   "execution_count": null,
   "id": "leading-majority",
   "metadata": {},
   "outputs": [],
   "source": []
  },
  {
   "cell_type": "markdown",
   "id": "promotional-morrison",
   "metadata": {},
   "source": [
    "### Check what is the leading country, whose artworks we do have."
   ]
  },
  {
   "cell_type": "code",
   "execution_count": 156,
   "id": "amino-synthesis",
   "metadata": {},
   "outputs": [
    {
     "data": {
      "text/html": [
       "        <script type=\"text/javascript\">\n",
       "        window.PlotlyConfig = {MathJaxConfig: 'local'};\n",
       "        if (window.MathJax) {MathJax.Hub.Config({SVG: {font: \"STIX-Web\"}});}\n",
       "        if (typeof require !== 'undefined') {\n",
       "        require.undef(\"plotly\");\n",
       "        requirejs.config({\n",
       "            paths: {\n",
       "                'plotly': ['https://cdn.plot.ly/plotly-latest.min']\n",
       "            }\n",
       "        });\n",
       "        require(['plotly'], function(Plotly) {\n",
       "            window._Plotly = Plotly;\n",
       "        });\n",
       "        }\n",
       "        </script>\n",
       "        "
      ]
     },
     "metadata": {},
     "output_type": "display_data"
    },
    {
     "data": {
      "application/vnd.plotly.v1+json": {
       "config": {
        "plotlyServerURL": "https://plot.ly"
       },
       "data": [
        {
         "labels": [
          "egypt",
          "united states",
          "iran",
          "peru",
          "france",
          "byzantine egypt",
          "mexico",
          "indonesia",
          "india",
          "england"
         ],
         "type": "pie",
         "uid": "58cd12fa-079b-49cf-8406-074d4fc701c3",
         "values": [
          31262,
          9047,
          6156,
          3396,
          1702,
          1673,
          1535,
          1390,
          1379,
          1117
         ]
        }
       ],
       "layout": {
        "title": {
         "text": "Countries with the most pieces of art",
         "xanchor": "right",
         "yanchor": "top"
        }
       }
      },
      "text/html": [
       "<div>\n",
       "        \n",
       "        \n",
       "            <div id=\"7810a449-b1dc-42ac-ba23-ad057633c5d2\" class=\"plotly-graph-div\" style=\"height:525px; width:100%;\"></div>\n",
       "            <script type=\"text/javascript\">\n",
       "                require([\"plotly\"], function(Plotly) {\n",
       "                    window.PLOTLYENV=window.PLOTLYENV || {};\n",
       "                    window.PLOTLYENV.BASE_URL='https://plot.ly';\n",
       "                    \n",
       "                if (document.getElementById(\"7810a449-b1dc-42ac-ba23-ad057633c5d2\")) {\n",
       "                    Plotly.newPlot(\n",
       "                        '7810a449-b1dc-42ac-ba23-ad057633c5d2',\n",
       "                        [{\"labels\": [\"egypt\", \"united states\", \"iran\", \"peru\", \"france\", \"byzantine egypt\", \"mexico\", \"indonesia\", \"india\", \"england\"], \"type\": \"pie\", \"uid\": \"58cd12fa-079b-49cf-8406-074d4fc701c3\", \"values\": [31262, 9047, 6156, 3396, 1702, 1673, 1535, 1390, 1379, 1117]}],\n",
       "                        {\"title\": {\"text\": \"Countries with the most pieces of art\", \"xanchor\": \"right\", \"yanchor\": \"top\"}},\n",
       "                        {\"plotlyServerURL\": \"https://plot.ly\", \"responsive\": true}\n",
       "                    ).then(function(){\n",
       "                            \n",
       "var gd = document.getElementById('7810a449-b1dc-42ac-ba23-ad057633c5d2');\n",
       "var x = new MutationObserver(function (mutations, observer) {{\n",
       "        var display = window.getComputedStyle(gd).display;\n",
       "        if (!display || display === 'none') {{\n",
       "            console.log([gd, 'removed!']);\n",
       "            Plotly.purge(gd);\n",
       "            observer.disconnect();\n",
       "        }}\n",
       "}});\n",
       "\n",
       "// Listen for the removal of the full notebook cells\n",
       "var notebookContainer = gd.closest('#notebook-container');\n",
       "if (notebookContainer) {{\n",
       "    x.observe(notebookContainer, {childList: true});\n",
       "}}\n",
       "\n",
       "// Listen for the clearing of the current output cell\n",
       "var outputEl = gd.closest('.output');\n",
       "if (outputEl) {{\n",
       "    x.observe(outputEl, {childList: true});\n",
       "}}\n",
       "\n",
       "                        })\n",
       "                };\n",
       "                });\n",
       "            </script>\n",
       "        </div>"
      ]
     },
     "metadata": {},
     "output_type": "display_data"
    },
    {
     "data": {
      "text/plain": [
       "<Figure size 5760x5760 with 0 Axes>"
      ]
     },
     "metadata": {},
     "output_type": "display_data"
    }
   ],
   "source": [
    "countries = value_count('Country')\n",
    "piechart(countries,'Country','Countries with the most pieces of art')"
   ]
  },
  {
   "cell_type": "markdown",
   "id": "economic-serial",
   "metadata": {},
   "source": [
    "Here we take into consideration only artworks with known countries. Unfortunately for 84.13% we don't know the country. Can we somehow fill this gap? \n",
    "What about known countries dataset? 31262 of artworks is from Egypt! It is 49.3% of. Who is the main author? \n",
    "USA is on the second place with 14.3% of works."
   ]
  },
  {
   "cell_type": "code",
   "execution_count": 157,
   "id": "scenic-arabic",
   "metadata": {},
   "outputs": [
    {
     "data": {
      "text/plain": [
       "0.17785113604012526"
      ]
     },
     "execution_count": 157,
     "metadata": {},
     "output_type": "execute_result"
    }
   ],
   "source": [
    "100*556/312621"
   ]
  },
  {
   "cell_type": "markdown",
   "id": "protective-documentation",
   "metadata": {},
   "source": [
    "Only 0.18% has its authors written. It can be by mistake of the creator or may be of unknown author. "
   ]
  },
  {
   "cell_type": "code",
   "execution_count": 158,
   "id": "emerging-anaheim",
   "metadata": {},
   "outputs": [
    {
     "data": {
      "text/plain": [
       "Period                                  \n",
       "new kingdom                                 6917\n",
       "middle kingdom                              4658\n",
       "new kingdom, ramesside                      3743\n",
       "missing                                     3571\n",
       "third intermediate period                   1251\n",
       "                                            ... \n",
       "neolithic or later                             1\n",
       "new kingdom or later ?                         1\n",
       "new kingdom or third intermediate period       1\n",
       "new kingdom to 3rd intermediate period         1\n",
       "new kingdom – third intermediate period        1\n",
       "Length: 305, dtype: int64"
      ]
     },
     "execution_count": 158,
     "metadata": {},
     "output_type": "execute_result"
    }
   ],
   "source": [
    "museum_set[['Period']].loc[museum_set['Country'] == 'egypt'].value_counts()"
   ]
  },
  {
   "cell_type": "code",
   "execution_count": 159,
   "id": "simple-jumping",
   "metadata": {},
   "outputs": [],
   "source": [
    "period_egyptian = value_count('Period')"
   ]
  },
  {
   "cell_type": "code",
   "execution_count": 160,
   "id": "varying-minneapolis",
   "metadata": {},
   "outputs": [
    {
     "data": {
      "text/html": [
       "<div>\n",
       "<style scoped>\n",
       "    .dataframe tbody tr th:only-of-type {\n",
       "        vertical-align: middle;\n",
       "    }\n",
       "\n",
       "    .dataframe tbody tr th {\n",
       "        vertical-align: top;\n",
       "    }\n",
       "\n",
       "    .dataframe thead th {\n",
       "        text-align: right;\n",
       "    }\n",
       "</style>\n",
       "<table border=\"1\" class=\"dataframe\">\n",
       "  <thead>\n",
       "    <tr style=\"text-align: right;\">\n",
       "      <th></th>\n",
       "      <th>Count of works</th>\n",
       "      <th>Period</th>\n",
       "    </tr>\n",
       "  </thead>\n",
       "  <tbody>\n",
       "    <tr>\n",
       "      <th>1</th>\n",
       "      <td>9086</td>\n",
       "      <td>edo period (1615–1868)</td>\n",
       "    </tr>\n",
       "    <tr>\n",
       "      <th>2</th>\n",
       "      <td>8163</td>\n",
       "      <td>archaic</td>\n",
       "    </tr>\n",
       "    <tr>\n",
       "      <th>3</th>\n",
       "      <td>6958</td>\n",
       "      <td>classical</td>\n",
       "    </tr>\n",
       "    <tr>\n",
       "      <th>4</th>\n",
       "      <td>6928</td>\n",
       "      <td>new kingdom</td>\n",
       "    </tr>\n",
       "    <tr>\n",
       "      <th>5</th>\n",
       "      <td>4666</td>\n",
       "      <td>middle kingdom</td>\n",
       "    </tr>\n",
       "    <tr>\n",
       "      <th>6</th>\n",
       "      <td>3790</td>\n",
       "      <td>qing dynasty (1644–1911)</td>\n",
       "    </tr>\n",
       "    <tr>\n",
       "      <th>7</th>\n",
       "      <td>3745</td>\n",
       "      <td>new kingdom, ramesside</td>\n",
       "    </tr>\n",
       "    <tr>\n",
       "      <th>8</th>\n",
       "      <td>1968</td>\n",
       "      <td>archaic/classical</td>\n",
       "    </tr>\n",
       "    <tr>\n",
       "      <th>9</th>\n",
       "      <td>1338</td>\n",
       "      <td>late period</td>\n",
       "    </tr>\n",
       "    <tr>\n",
       "      <th>10</th>\n",
       "      <td>1309</td>\n",
       "      <td>third intermediate period</td>\n",
       "    </tr>\n",
       "  </tbody>\n",
       "</table>\n",
       "</div>"
      ],
      "text/plain": [
       "    Count of works                     Period\n",
       "1             9086     edo period (1615–1868)\n",
       "2             8163                    archaic\n",
       "3             6958                  classical\n",
       "4             6928                new kingdom\n",
       "5             4666             middle kingdom\n",
       "6             3790   qing dynasty (1644–1911)\n",
       "7             3745     new kingdom, ramesside\n",
       "8             1968          archaic/classical\n",
       "9             1338                late period\n",
       "10            1309  third intermediate period"
      ]
     },
     "execution_count": 160,
     "metadata": {},
     "output_type": "execute_result"
    }
   ],
   "source": [
    "period_egyptian.head(10)"
   ]
  },
  {
   "cell_type": "code",
   "execution_count": 161,
   "id": "differential-playback",
   "metadata": {},
   "outputs": [
    {
     "data": {
      "text/plain": [
       "Dynasty\n",
       "missing    9086\n",
       "dtype: int64"
      ]
     },
     "execution_count": 161,
     "metadata": {},
     "output_type": "execute_result"
    }
   ],
   "source": [
    "museum_set[['Dynasty']].loc[museum_set['Period'] == 'edo period (1615–1868)'].value_counts()"
   ]
  },
  {
   "cell_type": "code",
   "execution_count": 162,
   "id": "tamil-subcommittee",
   "metadata": {},
   "outputs": [
    {
     "data": {
      "text/plain": [
       "Reign  \n",
       "missing    9086\n",
       "dtype: int64"
      ]
     },
     "execution_count": 162,
     "metadata": {},
     "output_type": "execute_result"
    }
   ],
   "source": [
    "museum_set[['Reign']].loc[museum_set['Period'] == 'edo period (1615–1868)'].value_counts()"
   ]
  },
  {
   "cell_type": "code",
   "execution_count": 163,
   "id": "centered-lebanon",
   "metadata": {},
   "outputs": [
    {
     "data": {
      "text/plain": [
       "Medium                                                                                   \n",
       "woodblock print; ink and color on paper                                                      2196\n",
       "silk / compound weave                                                                         493\n",
       "woodblock print (surimono); ink and color on paper                                            467\n",
       "silk                                                                                          345\n",
       "woodblock print (nishiki-e); ink and color on paper                                           227\n",
       "                                                                                             ... \n",
       "ink and color on silk                                                                           1\n",
       "ink and gold powder on silk satin                                                               1\n",
       "ink and red color on paper                                                                      1\n",
       "ink and watercolor on paper                                                                     1\n",
       "yūzen-dyed silk crepe (chirimen) with appliqué and embroidery in silk and metallic thread       1\n",
       "Length: 2548, dtype: int64"
      ]
     },
     "execution_count": 163,
     "metadata": {},
     "output_type": "execute_result"
    }
   ],
   "source": [
    "museum_set[['Medium']].loc[museum_set['Period'] == 'edo period (1615–1868)'].value_counts()"
   ]
  },
  {
   "cell_type": "markdown",
   "id": "illegal-nudist",
   "metadata": {},
   "source": [
    "New Kingdom,Dynasty 18, reign of Amenhotep III, 1910, 1926, faience, limestone,paint.\n",
    "Edo period (1615–1868), woodblock print; ink and color on paper, dynasty and reign is missing"
   ]
  },
  {
   "cell_type": "markdown",
   "id": "collaborative-particle",
   "metadata": {},
   "source": [
    "## Which department has the most of artworks?"
   ]
  },
  {
   "cell_type": "code",
   "execution_count": 164,
   "id": "toxic-flexibility",
   "metadata": {},
   "outputs": [
    {
     "data": {
      "text/html": [
       "        <script type=\"text/javascript\">\n",
       "        window.PlotlyConfig = {MathJaxConfig: 'local'};\n",
       "        if (window.MathJax) {MathJax.Hub.Config({SVG: {font: \"STIX-Web\"}});}\n",
       "        if (typeof require !== 'undefined') {\n",
       "        require.undef(\"plotly\");\n",
       "        requirejs.config({\n",
       "            paths: {\n",
       "                'plotly': ['https://cdn.plot.ly/plotly-latest.min']\n",
       "            }\n",
       "        });\n",
       "        require(['plotly'], function(Plotly) {\n",
       "            window._Plotly = Plotly;\n",
       "        });\n",
       "        }\n",
       "        </script>\n",
       "        "
      ]
     },
     "metadata": {},
     "output_type": "display_data"
    },
    {
     "data": {
      "application/vnd.plotly.v1+json": {
       "config": {
        "plotlyServerURL": "https://plot.ly"
       },
       "data": [
        {
         "labels": [
          "drawings and prints",
          "european sculpture and decorative arts",
          "photographs",
          "asian art",
          "greek and roman art",
          "costume institute",
          "egyptian art",
          "the american wing",
          "islamic art",
          "modern and contemporary art"
         ],
         "type": "pie",
         "uid": "0cf316db-20cd-49eb-a9b2-63deb5276888",
         "values": [
          165956,
          42889,
          37108,
          36634,
          33743,
          31305,
          27931,
          18313,
          15303,
          14055
         ]
        }
       ],
       "layout": {
        "title": {
         "text": "Departments with the most pieces of art",
         "xanchor": "right",
         "yanchor": "top"
        }
       }
      },
      "text/html": [
       "<div>\n",
       "        \n",
       "        \n",
       "            <div id=\"83db0472-f441-4dcd-aa7f-f5921dafe9ba\" class=\"plotly-graph-div\" style=\"height:525px; width:100%;\"></div>\n",
       "            <script type=\"text/javascript\">\n",
       "                require([\"plotly\"], function(Plotly) {\n",
       "                    window.PLOTLYENV=window.PLOTLYENV || {};\n",
       "                    window.PLOTLYENV.BASE_URL='https://plot.ly';\n",
       "                    \n",
       "                if (document.getElementById(\"83db0472-f441-4dcd-aa7f-f5921dafe9ba\")) {\n",
       "                    Plotly.newPlot(\n",
       "                        '83db0472-f441-4dcd-aa7f-f5921dafe9ba',\n",
       "                        [{\"labels\": [\"drawings and prints\", \"european sculpture and decorative arts\", \"photographs\", \"asian art\", \"greek and roman art\", \"costume institute\", \"egyptian art\", \"the american wing\", \"islamic art\", \"modern and contemporary art\"], \"type\": \"pie\", \"uid\": \"0cf316db-20cd-49eb-a9b2-63deb5276888\", \"values\": [165956, 42889, 37108, 36634, 33743, 31305, 27931, 18313, 15303, 14055]}],\n",
       "                        {\"title\": {\"text\": \"Departments with the most pieces of art\", \"xanchor\": \"right\", \"yanchor\": \"top\"}},\n",
       "                        {\"plotlyServerURL\": \"https://plot.ly\", \"responsive\": true}\n",
       "                    ).then(function(){\n",
       "                            \n",
       "var gd = document.getElementById('83db0472-f441-4dcd-aa7f-f5921dafe9ba');\n",
       "var x = new MutationObserver(function (mutations, observer) {{\n",
       "        var display = window.getComputedStyle(gd).display;\n",
       "        if (!display || display === 'none') {{\n",
       "            console.log([gd, 'removed!']);\n",
       "            Plotly.purge(gd);\n",
       "            observer.disconnect();\n",
       "        }}\n",
       "}});\n",
       "\n",
       "// Listen for the removal of the full notebook cells\n",
       "var notebookContainer = gd.closest('#notebook-container');\n",
       "if (notebookContainer) {{\n",
       "    x.observe(notebookContainer, {childList: true});\n",
       "}}\n",
       "\n",
       "// Listen for the clearing of the current output cell\n",
       "var outputEl = gd.closest('.output');\n",
       "if (outputEl) {{\n",
       "    x.observe(outputEl, {childList: true});\n",
       "}}\n",
       "\n",
       "                        })\n",
       "                };\n",
       "                });\n",
       "            </script>\n",
       "        </div>"
      ]
     },
     "metadata": {},
     "output_type": "display_data"
    },
    {
     "data": {
      "text/plain": [
       "<Figure size 5760x5760 with 0 Axes>"
      ]
     },
     "metadata": {},
     "output_type": "display_data"
    }
   ],
   "source": [
    "departments = value_count('Department')\n",
    "piechart(departments,'Department','Departments with the most pieces of art',14000)"
   ]
  },
  {
   "cell_type": "markdown",
   "id": "immune-marker",
   "metadata": {},
   "source": [
    "The most of artworks is owned by the Department of Drawings and Prints of 36.9%.The second is European Sculpture and Decorative Arts with 9.55%. Some additional tests???"
   ]
  },
  {
   "cell_type": "markdown",
   "id": "extended-manitoba",
   "metadata": {},
   "source": [
    "## What objectName is the most popular?"
   ]
  },
  {
   "cell_type": "code",
   "execution_count": 165,
   "id": "careful-challenge",
   "metadata": {},
   "outputs": [
    {
     "data": {
      "text/html": [
       "        <script type=\"text/javascript\">\n",
       "        window.PlotlyConfig = {MathJaxConfig: 'local'};\n",
       "        if (window.MathJax) {MathJax.Hub.Config({SVG: {font: \"STIX-Web\"}});}\n",
       "        if (typeof require !== 'undefined') {\n",
       "        require.undef(\"plotly\");\n",
       "        requirejs.config({\n",
       "            paths: {\n",
       "                'plotly': ['https://cdn.plot.ly/plotly-latest.min']\n",
       "            }\n",
       "        });\n",
       "        require(['plotly'], function(Plotly) {\n",
       "            window._Plotly = Plotly;\n",
       "        });\n",
       "        }\n",
       "        </script>\n",
       "        "
      ]
     },
     "metadata": {},
     "output_type": "display_data"
    },
    {
     "data": {
      "application/vnd.plotly.v1+json": {
       "config": {
        "plotlyServerURL": "https://plot.ly"
       },
       "data": [
        {
         "labels": [
          "print",
          "photograph",
          "drawing",
          "book",
          "fragment",
          "kylix fragment",
          "piece",
          "negative",
          "painting"
         ],
         "type": "pie",
         "uid": "111de0c5-cf7c-4a24-81e1-55a7e004ea98",
         "values": [
          98733,
          28436,
          25650,
          13340,
          9538,
          8944,
          8630,
          5928,
          5909
         ]
        }
       ],
       "layout": {
        "title": {
         "text": "Most common type of objects",
         "xanchor": "right",
         "yanchor": "top"
        }
       }
      },
      "text/html": [
       "<div>\n",
       "        \n",
       "        \n",
       "            <div id=\"1049d1da-4e9f-42ef-8faf-3d18db1b8f39\" class=\"plotly-graph-div\" style=\"height:525px; width:100%;\"></div>\n",
       "            <script type=\"text/javascript\">\n",
       "                require([\"plotly\"], function(Plotly) {\n",
       "                    window.PLOTLYENV=window.PLOTLYENV || {};\n",
       "                    window.PLOTLYENV.BASE_URL='https://plot.ly';\n",
       "                    \n",
       "                if (document.getElementById(\"1049d1da-4e9f-42ef-8faf-3d18db1b8f39\")) {\n",
       "                    Plotly.newPlot(\n",
       "                        '1049d1da-4e9f-42ef-8faf-3d18db1b8f39',\n",
       "                        [{\"labels\": [\"print\", \"photograph\", \"drawing\", \"book\", \"fragment\", \"kylix fragment\", \"piece\", \"negative\", \"painting\"], \"type\": \"pie\", \"uid\": \"111de0c5-cf7c-4a24-81e1-55a7e004ea98\", \"values\": [98733, 28436, 25650, 13340, 9538, 8944, 8630, 5928, 5909]}],\n",
       "                        {\"title\": {\"text\": \"Most common type of objects\", \"xanchor\": \"right\", \"yanchor\": \"top\"}},\n",
       "                        {\"plotlyServerURL\": \"https://plot.ly\", \"responsive\": true}\n",
       "                    ).then(function(){\n",
       "                            \n",
       "var gd = document.getElementById('1049d1da-4e9f-42ef-8faf-3d18db1b8f39');\n",
       "var x = new MutationObserver(function (mutations, observer) {{\n",
       "        var display = window.getComputedStyle(gd).display;\n",
       "        if (!display || display === 'none') {{\n",
       "            console.log([gd, 'removed!']);\n",
       "            Plotly.purge(gd);\n",
       "            observer.disconnect();\n",
       "        }}\n",
       "}});\n",
       "\n",
       "// Listen for the removal of the full notebook cells\n",
       "var notebookContainer = gd.closest('#notebook-container');\n",
       "if (notebookContainer) {{\n",
       "    x.observe(notebookContainer, {childList: true});\n",
       "}}\n",
       "\n",
       "// Listen for the clearing of the current output cell\n",
       "var outputEl = gd.closest('.output');\n",
       "if (outputEl) {{\n",
       "    x.observe(outputEl, {childList: true});\n",
       "}}\n",
       "\n",
       "                        })\n",
       "                };\n",
       "                });\n",
       "            </script>\n",
       "        </div>"
      ]
     },
     "metadata": {},
     "output_type": "display_data"
    },
    {
     "data": {
      "text/plain": [
       "<Figure size 5760x5760 with 0 Axes>"
      ]
     },
     "metadata": {},
     "output_type": "display_data"
    }
   ],
   "source": [
    "object_name = value_count('Object Name')\n",
    "piechart(object_name,'Object Name','Most common type of objects',5000)"
   ]
  },
  {
   "cell_type": "markdown",
   "id": "interesting-opening",
   "metadata": {},
   "source": [
    "The most common type of stored artworks is a print. It corresponds to 45.9% all known objects."
   ]
  },
  {
   "cell_type": "code",
   "execution_count": 166,
   "id": "minor-stretch",
   "metadata": {},
   "outputs": [
    {
     "data": {
      "text/plain": [
       "98733"
      ]
     },
     "execution_count": 166,
     "metadata": {},
     "output_type": "execute_result"
    }
   ],
   "source": [
    "museum_set['Artist Display Name'].loc[museum_set['Object Name']=='print'].count()"
   ]
  },
  {
   "cell_type": "code",
   "execution_count": null,
   "id": "discrete-graphic",
   "metadata": {},
   "outputs": [],
   "source": []
  },
  {
   "cell_type": "code",
   "execution_count": 167,
   "id": "altered-lounge",
   "metadata": {},
   "outputs": [
    {
     "data": {
      "text/html": [
       "        <script type=\"text/javascript\">\n",
       "        window.PlotlyConfig = {MathJaxConfig: 'local'};\n",
       "        if (window.MathJax) {MathJax.Hub.Config({SVG: {font: \"STIX-Web\"}});}\n",
       "        if (typeof require !== 'undefined') {\n",
       "        require.undef(\"plotly\");\n",
       "        requirejs.config({\n",
       "            paths: {\n",
       "                'plotly': ['https://cdn.plot.ly/plotly-latest.min']\n",
       "            }\n",
       "        });\n",
       "        require(['plotly'], function(Plotly) {\n",
       "            window._Plotly = Plotly;\n",
       "        });\n",
       "        }\n",
       "        </script>\n",
       "        "
      ]
     },
     "metadata": {},
     "output_type": "display_data"
    },
    {
     "data": {
      "application/vnd.plotly.v1+json": {
       "config": {
        "plotlyServerURL": "https://plot.ly"
       },
       "data": [
        {
         "labels": [
          "walker evans",
          "kinney brothers tobacco company",
          "w. duke, sons & co.",
          "allen & ginter",
          "brewster & co.",
          "goodwin & company",
          "topps chewing gum company",
          "american tobacco company",
          "exhibit supply company",
          "anonymous",
          "anonymous, british, 19th century",
          "reginald marsh"
         ],
         "type": "pie",
         "uid": "a8f2caa4-c769-416e-a0ea-dadb99d0fd73",
         "values": [
          7433,
          4163,
          3088,
          2960,
          2742,
          2652,
          2273,
          2067,
          1522,
          1099,
          1021,
          1005
         ]
        }
       ],
       "layout": {
        "title": {
         "text": "Artist with the most contributions",
         "xanchor": "right",
         "yanchor": "top"
        }
       }
      },
      "text/html": [
       "<div>\n",
       "        \n",
       "        \n",
       "            <div id=\"b45afe04-ca39-4df9-8a63-2ca76957abe4\" class=\"plotly-graph-div\" style=\"height:525px; width:100%;\"></div>\n",
       "            <script type=\"text/javascript\">\n",
       "                require([\"plotly\"], function(Plotly) {\n",
       "                    window.PLOTLYENV=window.PLOTLYENV || {};\n",
       "                    window.PLOTLYENV.BASE_URL='https://plot.ly';\n",
       "                    \n",
       "                if (document.getElementById(\"b45afe04-ca39-4df9-8a63-2ca76957abe4\")) {\n",
       "                    Plotly.newPlot(\n",
       "                        'b45afe04-ca39-4df9-8a63-2ca76957abe4',\n",
       "                        [{\"labels\": [\"walker evans\", \"kinney brothers tobacco company\", \"w. duke, sons & co.\", \"allen & ginter\", \"brewster & co.\", \"goodwin & company\", \"topps chewing gum company\", \"american tobacco company\", \"exhibit supply company\", \"anonymous\", \"anonymous, british, 19th century\", \"reginald marsh\"], \"type\": \"pie\", \"uid\": \"a8f2caa4-c769-416e-a0ea-dadb99d0fd73\", \"values\": [7433, 4163, 3088, 2960, 2742, 2652, 2273, 2067, 1522, 1099, 1021, 1005]}],\n",
       "                        {\"title\": {\"text\": \"Artist with the most contributions\", \"xanchor\": \"right\", \"yanchor\": \"top\"}},\n",
       "                        {\"plotlyServerURL\": \"https://plot.ly\", \"responsive\": true}\n",
       "                    ).then(function(){\n",
       "                            \n",
       "var gd = document.getElementById('b45afe04-ca39-4df9-8a63-2ca76957abe4');\n",
       "var x = new MutationObserver(function (mutations, observer) {{\n",
       "        var display = window.getComputedStyle(gd).display;\n",
       "        if (!display || display === 'none') {{\n",
       "            console.log([gd, 'removed!']);\n",
       "            Plotly.purge(gd);\n",
       "            observer.disconnect();\n",
       "        }}\n",
       "}});\n",
       "\n",
       "// Listen for the removal of the full notebook cells\n",
       "var notebookContainer = gd.closest('#notebook-container');\n",
       "if (notebookContainer) {{\n",
       "    x.observe(notebookContainer, {childList: true});\n",
       "}}\n",
       "\n",
       "// Listen for the clearing of the current output cell\n",
       "var outputEl = gd.closest('.output');\n",
       "if (outputEl) {{\n",
       "    x.observe(outputEl, {childList: true});\n",
       "}}\n",
       "\n",
       "                        })\n",
       "                };\n",
       "                });\n",
       "            </script>\n",
       "        </div>"
      ]
     },
     "metadata": {},
     "output_type": "display_data"
    },
    {
     "data": {
      "text/plain": [
       "<Figure size 5760x5760 with 0 Axes>"
      ]
     },
     "metadata": {},
     "output_type": "display_data"
    }
   ],
   "source": [
    "print_companies = value_count('Artist Display Name')\n",
    "print_companies['Artist Display Name']\n",
    "piechart(print_companies,'Artist Display Name','Artist with the most contributions',1000)"
   ]
  },
  {
   "cell_type": "markdown",
   "id": "streaming-albania",
   "metadata": {},
   "source": [
    "Most of the prints were contributed by companies. We also can notice that significant part is done by famous printmakers and draftsmen Giovanni Battista, Albrecht Durer. There's no wonder that Department of Drawing and Prints. \n",
    "Didn't find the relation of commercial organizations to all the organizations as whole, so as we could find the basis for the existence of the museum. Also we could have found which years companies contributed their works."
   ]
  },
  {
   "cell_type": "markdown",
   "id": "verified-venezuela",
   "metadata": {},
   "source": [
    "We can check other types of Object Names to define what country they are from. etc"
   ]
  },
  {
   "cell_type": "markdown",
   "id": "musical-agriculture",
   "metadata": {},
   "source": [
    "## Which medium was used the most?"
   ]
  },
  {
   "cell_type": "code",
   "execution_count": 168,
   "id": "handmade-equation",
   "metadata": {},
   "outputs": [
    {
     "data": {
      "text/html": [
       "        <script type=\"text/javascript\">\n",
       "        window.PlotlyConfig = {MathJaxConfig: 'local'};\n",
       "        if (window.MathJax) {MathJax.Hub.Config({SVG: {font: \"STIX-Web\"}});}\n",
       "        if (typeof require !== 'undefined') {\n",
       "        require.undef(\"plotly\");\n",
       "        requirejs.config({\n",
       "            paths: {\n",
       "                'plotly': ['https://cdn.plot.ly/plotly-latest.min']\n",
       "            }\n",
       "        });\n",
       "        require(['plotly'], function(Plotly) {\n",
       "            window._Plotly = Plotly;\n",
       "        });\n",
       "        }\n",
       "        </script>\n",
       "        "
      ]
     },
     "metadata": {},
     "output_type": "display_data"
    },
    {
     "data": {
      "application/vnd.plotly.v1+json": {
       "config": {
        "plotlyServerURL": "https://plot.ly"
       },
       "data": [
        {
         "labels": [
          "terracotta",
          "commercial color lithograph",
          "etching",
          "silk",
          "engraving",
          "gelatin silver print",
          "albumen photograph",
          "bronze",
          "glass",
          "lithograph",
          "film negative",
          "cotton"
         ],
         "type": "pie",
         "uid": "b458a4a0-e4c0-4588-bb43-553f8424636c",
         "values": [
          23561,
          18346,
          16884,
          13321,
          11452,
          10131,
          9653,
          7268,
          6653,
          6554,
          5894,
          5471
         ]
        }
       ],
       "layout": {
        "title": {
         "text": "Most common medium used",
         "xanchor": "right",
         "yanchor": "top"
        }
       }
      },
      "text/html": [
       "<div>\n",
       "        \n",
       "        \n",
       "            <div id=\"b2874f4a-53b7-4911-a793-87f1c1dd77fe\" class=\"plotly-graph-div\" style=\"height:525px; width:100%;\"></div>\n",
       "            <script type=\"text/javascript\">\n",
       "                require([\"plotly\"], function(Plotly) {\n",
       "                    window.PLOTLYENV=window.PLOTLYENV || {};\n",
       "                    window.PLOTLYENV.BASE_URL='https://plot.ly';\n",
       "                    \n",
       "                if (document.getElementById(\"b2874f4a-53b7-4911-a793-87f1c1dd77fe\")) {\n",
       "                    Plotly.newPlot(\n",
       "                        'b2874f4a-53b7-4911-a793-87f1c1dd77fe',\n",
       "                        [{\"labels\": [\"terracotta\", \"commercial color lithograph\", \"etching\", \"silk\", \"engraving\", \"gelatin silver print\", \"albumen photograph\", \"bronze\", \"glass\", \"lithograph\", \"film negative\", \"cotton\"], \"type\": \"pie\", \"uid\": \"b458a4a0-e4c0-4588-bb43-553f8424636c\", \"values\": [23561, 18346, 16884, 13321, 11452, 10131, 9653, 7268, 6653, 6554, 5894, 5471]}],\n",
       "                        {\"title\": {\"text\": \"Most common medium used\", \"xanchor\": \"right\", \"yanchor\": \"top\"}},\n",
       "                        {\"plotlyServerURL\": \"https://plot.ly\", \"responsive\": true}\n",
       "                    ).then(function(){\n",
       "                            \n",
       "var gd = document.getElementById('b2874f4a-53b7-4911-a793-87f1c1dd77fe');\n",
       "var x = new MutationObserver(function (mutations, observer) {{\n",
       "        var display = window.getComputedStyle(gd).display;\n",
       "        if (!display || display === 'none') {{\n",
       "            console.log([gd, 'removed!']);\n",
       "            Plotly.purge(gd);\n",
       "            observer.disconnect();\n",
       "        }}\n",
       "}});\n",
       "\n",
       "// Listen for the removal of the full notebook cells\n",
       "var notebookContainer = gd.closest('#notebook-container');\n",
       "if (notebookContainer) {{\n",
       "    x.observe(notebookContainer, {childList: true});\n",
       "}}\n",
       "\n",
       "// Listen for the clearing of the current output cell\n",
       "var outputEl = gd.closest('.output');\n",
       "if (outputEl) {{\n",
       "    x.observe(outputEl, {childList: true});\n",
       "}}\n",
       "\n",
       "                        })\n",
       "                };\n",
       "                });\n",
       "            </script>\n",
       "        </div>"
      ]
     },
     "metadata": {},
     "output_type": "display_data"
    },
    {
     "data": {
      "text/plain": [
       "<Figure size 5760x5760 with 0 Axes>"
      ]
     },
     "metadata": {},
     "output_type": "display_data"
    }
   ],
   "source": [
    "medium = value_count('Medium')\n",
    "piechart(medium,'Medium','Most common medium used',5000)"
   ]
  },
  {
   "cell_type": "code",
   "execution_count": 169,
   "id": "rental-equilibrium",
   "metadata": {},
   "outputs": [
    {
     "data": {
      "text/html": [
       "<div>\n",
       "<style scoped>\n",
       "    .dataframe tbody tr th:only-of-type {\n",
       "        vertical-align: middle;\n",
       "    }\n",
       "\n",
       "    .dataframe tbody tr th {\n",
       "        vertical-align: top;\n",
       "    }\n",
       "\n",
       "    .dataframe thead th {\n",
       "        text-align: right;\n",
       "    }\n",
       "</style>\n",
       "<table border=\"1\" class=\"dataframe\">\n",
       "  <thead>\n",
       "    <tr style=\"text-align: right;\">\n",
       "      <th></th>\n",
       "      <th>Count of works</th>\n",
       "      <th>Culture</th>\n",
       "    </tr>\n",
       "  </thead>\n",
       "  <tbody>\n",
       "    <tr>\n",
       "      <th>0</th>\n",
       "      <td>17243</td>\n",
       "      <td>greek, attic</td>\n",
       "    </tr>\n",
       "    <tr>\n",
       "      <th>1</th>\n",
       "      <td>1379</td>\n",
       "      <td>cypriot</td>\n",
       "    </tr>\n",
       "    <tr>\n",
       "      <th>2</th>\n",
       "      <td>655</td>\n",
       "      <td>roman</td>\n",
       "    </tr>\n",
       "    <tr>\n",
       "      <th>3</th>\n",
       "      <td>620</td>\n",
       "      <td>etruscan</td>\n",
       "    </tr>\n",
       "    <tr>\n",
       "      <th>4</th>\n",
       "      <td>312</td>\n",
       "      <td>minoan</td>\n",
       "    </tr>\n",
       "  </tbody>\n",
       "</table>\n",
       "</div>"
      ],
      "text/plain": [
       "   Count of works       Culture\n",
       "0           17243  greek, attic\n",
       "1            1379       cypriot\n",
       "2             655         roman\n",
       "3             620      etruscan\n",
       "4             312        minoan"
      ]
     },
     "execution_count": 169,
     "metadata": {},
     "output_type": "execute_result"
    }
   ],
   "source": [
    "terracotta_country = pd.DataFrame(museum_set['Culture'].loc[museum_set['Medium']=='terracotta'].value_counts())\n",
    "terracotta_country.columns=['Count of works']\n",
    "terracotta_country['Culture'] = terracotta_country.index\n",
    "#print_companies['Artist Display Name'] = print_companies['Artist Display Name'].apply(lambda x: x[0])\n",
    "terracotta_country.sort_values(by=\"Count of works\",ascending=False)\n",
    "terracotta_country = terracotta_country.reset_index(drop=True)\n",
    "terracotta_country.head()"
   ]
  },
  {
   "cell_type": "code",
   "execution_count": 170,
   "id": "polished-technical",
   "metadata": {},
   "outputs": [
    {
     "data": {
      "text/html": [
       "<div>\n",
       "<style scoped>\n",
       "    .dataframe tbody tr th:only-of-type {\n",
       "        vertical-align: middle;\n",
       "    }\n",
       "\n",
       "    .dataframe tbody tr th {\n",
       "        vertical-align: top;\n",
       "    }\n",
       "\n",
       "    .dataframe thead th {\n",
       "        text-align: right;\n",
       "    }\n",
       "</style>\n",
       "<table border=\"1\" class=\"dataframe\">\n",
       "  <thead>\n",
       "    <tr style=\"text-align: right;\">\n",
       "      <th></th>\n",
       "      <th>Count of works</th>\n",
       "      <th>Culture</th>\n",
       "    </tr>\n",
       "  </thead>\n",
       "  <tbody>\n",
       "    <tr>\n",
       "      <th>0</th>\n",
       "      <td>2144</td>\n",
       "      <td>second quarter of the 5th century b.c.</td>\n",
       "    </tr>\n",
       "    <tr>\n",
       "      <th>1</th>\n",
       "      <td>1628</td>\n",
       "      <td>6th/5th centuries b.c.</td>\n",
       "    </tr>\n",
       "    <tr>\n",
       "      <th>2</th>\n",
       "      <td>1068</td>\n",
       "      <td>500–480 b.c.</td>\n",
       "    </tr>\n",
       "    <tr>\n",
       "      <th>3</th>\n",
       "      <td>1004</td>\n",
       "      <td>missing</td>\n",
       "    </tr>\n",
       "    <tr>\n",
       "      <th>4</th>\n",
       "      <td>999</td>\n",
       "      <td>490–480 b.c.</td>\n",
       "    </tr>\n",
       "    <tr>\n",
       "      <th>5</th>\n",
       "      <td>809</td>\n",
       "      <td>5th century b.c.</td>\n",
       "    </tr>\n",
       "    <tr>\n",
       "      <th>6</th>\n",
       "      <td>749</td>\n",
       "      <td>490–470 b.c.</td>\n",
       "    </tr>\n",
       "    <tr>\n",
       "      <th>7</th>\n",
       "      <td>705</td>\n",
       "      <td>460–450 b.c.</td>\n",
       "    </tr>\n",
       "    <tr>\n",
       "      <th>8</th>\n",
       "      <td>510</td>\n",
       "      <td>late 6th/early 5th century b.c.</td>\n",
       "    </tr>\n",
       "    <tr>\n",
       "      <th>9</th>\n",
       "      <td>455</td>\n",
       "      <td>520–500 b.c.</td>\n",
       "    </tr>\n",
       "  </tbody>\n",
       "</table>\n",
       "</div>"
      ],
      "text/plain": [
       "   Count of works                                 Culture\n",
       "0            2144  second quarter of the 5th century b.c.\n",
       "1            1628                  6th/5th centuries b.c.\n",
       "2            1068                            500–480 b.c.\n",
       "3            1004                                 missing\n",
       "4             999                            490–480 b.c.\n",
       "5             809                        5th century b.c.\n",
       "6             749                            490–470 b.c.\n",
       "7             705                            460–450 b.c.\n",
       "8             510         late 6th/early 5th century b.c.\n",
       "9             455                            520–500 b.c."
      ]
     },
     "execution_count": 170,
     "metadata": {},
     "output_type": "execute_result"
    }
   ],
   "source": [
    "terracotta_country = pd.DataFrame(museum_set['Object Date'].loc[museum_set['Medium']=='terracotta'].value_counts())\n",
    "terracotta_country.columns=['Count of works']\n",
    "terracotta_country['Culture'] = terracotta_country.index\n",
    "#print_companies['Artist Display Name'] = print_companies['Artist Display Name'].apply(lambda x: x[0])\n",
    "terracotta_country.sort_values(by=\"Count of works\",ascending=False)\n",
    "terracotta_country = terracotta_country.reset_index(drop=True)\n",
    "terracotta_country.head(10)"
   ]
  },
  {
   "cell_type": "code",
   "execution_count": 171,
   "id": "official-balance",
   "metadata": {},
   "outputs": [
    {
     "data": {
      "text/html": [
       "<div>\n",
       "<style scoped>\n",
       "    .dataframe tbody tr th:only-of-type {\n",
       "        vertical-align: middle;\n",
       "    }\n",
       "\n",
       "    .dataframe tbody tr th {\n",
       "        vertical-align: top;\n",
       "    }\n",
       "\n",
       "    .dataframe thead th {\n",
       "        text-align: right;\n",
       "    }\n",
       "</style>\n",
       "<table border=\"1\" class=\"dataframe\">\n",
       "  <thead>\n",
       "    <tr style=\"text-align: right;\">\n",
       "      <th></th>\n",
       "      <th>Count of works</th>\n",
       "      <th>Culture</th>\n",
       "    </tr>\n",
       "  </thead>\n",
       "  <tbody>\n",
       "    <tr>\n",
       "      <th>0</th>\n",
       "      <td>23084</td>\n",
       "      <td>greek and roman art</td>\n",
       "    </tr>\n",
       "    <tr>\n",
       "      <th>1</th>\n",
       "      <td>228</td>\n",
       "      <td>asian art</td>\n",
       "    </tr>\n",
       "    <tr>\n",
       "      <th>2</th>\n",
       "      <td>114</td>\n",
       "      <td>european sculpture and decorative arts</td>\n",
       "    </tr>\n",
       "    <tr>\n",
       "      <th>3</th>\n",
       "      <td>78</td>\n",
       "      <td>arts of africa, oceania, and the americas</td>\n",
       "    </tr>\n",
       "    <tr>\n",
       "      <th>4</th>\n",
       "      <td>27</td>\n",
       "      <td>egyptian art</td>\n",
       "    </tr>\n",
       "  </tbody>\n",
       "</table>\n",
       "</div>"
      ],
      "text/plain": [
       "   Count of works                                    Culture\n",
       "0           23084                        greek and roman art\n",
       "1             228                                  asian art\n",
       "2             114     european sculpture and decorative arts\n",
       "3              78  arts of africa, oceania, and the americas\n",
       "4              27                               egyptian art"
      ]
     },
     "execution_count": 171,
     "metadata": {},
     "output_type": "execute_result"
    }
   ],
   "source": [
    "terracotta_country = pd.DataFrame(museum_set['Department'].loc[museum_set['Medium']=='terracotta'].value_counts())\n",
    "terracotta_country.columns=['Count of works']\n",
    "terracotta_country['Culture'] = terracotta_country.index\n",
    "#print_companies['Artist Display Name'] = print_companies['Artist Display Name'].apply(lambda x: x[0])\n",
    "terracotta_country.sort_values(by=\"Count of works\",ascending=False)\n",
    "terracotta_country = terracotta_country.reset_index(drop=True)\n",
    "terracotta_country.head()"
   ]
  },
  {
   "cell_type": "code",
   "execution_count": 172,
   "id": "failing-shoot",
   "metadata": {},
   "outputs": [
    {
     "data": {
      "text/plain": [
       "97.98112886773205"
      ]
     },
     "execution_count": 172,
     "metadata": {},
     "output_type": "execute_result"
    }
   ],
   "source": [
    "100*(23053/23528)"
   ]
  },
  {
   "cell_type": "markdown",
   "id": "neural-technician",
   "metadata": {},
   "source": [
    "97.98% of terracotta products is from Greek and Roman Art from 5th century BC."
   ]
  },
  {
   "cell_type": "markdown",
   "id": "third-suspect",
   "metadata": {},
   "source": [
    "Probably with nlp we can better predict the time of Greek terracotta. We also can add some info n oother mediums."
   ]
  },
  {
   "cell_type": "markdown",
   "id": "productive-exemption",
   "metadata": {},
   "source": [
    "## Accession year lineplot to find trends"
   ]
  },
  {
   "cell_type": "code",
   "execution_count": 173,
   "id": "patent-desperate",
   "metadata": {},
   "outputs": [
    {
     "data": {
      "text/plain": [
       "0       443403\n",
       "1994      7599\n",
       "1963      5826\n",
       "2005      1459\n",
       "2011      1098\n",
       "         ...  \n",
       "1910         1\n",
       "1916         1\n",
       "1907         1\n",
       "1874         1\n",
       "1915         1\n",
       "Name: AccessionYear, Length: 113, dtype: int64"
      ]
     },
     "execution_count": 173,
     "metadata": {},
     "output_type": "execute_result"
    }
   ],
   "source": [
    "museum_set['AccessionYear'].value_counts()"
   ]
  },
  {
   "cell_type": "code",
   "execution_count": 174,
   "id": "functioning-discipline",
   "metadata": {},
   "outputs": [],
   "source": [
    "museum_set['AccessionYear'] = np.where(museum_set['AccessionYear']=='missing',0,museum_set['AccessionYear'])"
   ]
  },
  {
   "cell_type": "code",
   "execution_count": 175,
   "id": "macro-relaxation",
   "metadata": {},
   "outputs": [],
   "source": [
    "access = pd.DataFrame(museum_set['AccessionYear'])"
   ]
  },
  {
   "cell_type": "code",
   "execution_count": 176,
   "id": "integral-enlargement",
   "metadata": {},
   "outputs": [
    {
     "ename": "AttributeError",
     "evalue": "Can only use .str accessor with string values!",
     "output_type": "error",
     "traceback": [
      "\u001b[0;31m---------------------------------------------------------------------------\u001b[0m",
      "\u001b[0;31mAttributeError\u001b[0m                            Traceback (most recent call last)",
      "\u001b[0;32m<ipython-input-176-aebe74cc0333>\u001b[0m in \u001b[0;36m<module>\u001b[0;34m\u001b[0m\n\u001b[0;32m----> 1\u001b[0;31m \u001b[0maccess\u001b[0m\u001b[0;34m[\u001b[0m\u001b[0maccess\u001b[0m\u001b[0;34m[\u001b[0m\u001b[0;34m'AccessionYear'\u001b[0m\u001b[0;34m]\u001b[0m\u001b[0;34m.\u001b[0m\u001b[0mstr\u001b[0m\u001b[0;34m.\u001b[0m\u001b[0mcontains\u001b[0m\u001b[0;34m(\u001b[0m\u001b[0;34m'-'\u001b[0m\u001b[0;34m,\u001b[0m\u001b[0mna\u001b[0m\u001b[0;34m=\u001b[0m\u001b[0;32mFalse\u001b[0m\u001b[0;34m)\u001b[0m\u001b[0;34m]\u001b[0m\u001b[0;34m\u001b[0m\u001b[0;34m\u001b[0m\u001b[0m\n\u001b[0m",
      "\u001b[0;32m~/anaconda3/envs/rpz/lib/python3.8/site-packages/pandas/core/generic.py\u001b[0m in \u001b[0;36m__getattr__\u001b[0;34m(self, name)\u001b[0m\n\u001b[1;32m   5456\u001b[0m             \u001b[0;32mor\u001b[0m \u001b[0mname\u001b[0m \u001b[0;32min\u001b[0m \u001b[0mself\u001b[0m\u001b[0;34m.\u001b[0m\u001b[0m_accessors\u001b[0m\u001b[0;34m\u001b[0m\u001b[0;34m\u001b[0m\u001b[0m\n\u001b[1;32m   5457\u001b[0m         ):\n\u001b[0;32m-> 5458\u001b[0;31m             \u001b[0;32mreturn\u001b[0m \u001b[0mobject\u001b[0m\u001b[0;34m.\u001b[0m\u001b[0m__getattribute__\u001b[0m\u001b[0;34m(\u001b[0m\u001b[0mself\u001b[0m\u001b[0;34m,\u001b[0m \u001b[0mname\u001b[0m\u001b[0;34m)\u001b[0m\u001b[0;34m\u001b[0m\u001b[0;34m\u001b[0m\u001b[0m\n\u001b[0m\u001b[1;32m   5459\u001b[0m         \u001b[0;32melse\u001b[0m\u001b[0;34m:\u001b[0m\u001b[0;34m\u001b[0m\u001b[0;34m\u001b[0m\u001b[0m\n\u001b[1;32m   5460\u001b[0m             \u001b[0;32mif\u001b[0m \u001b[0mself\u001b[0m\u001b[0;34m.\u001b[0m\u001b[0m_info_axis\u001b[0m\u001b[0;34m.\u001b[0m\u001b[0m_can_hold_identifiers_and_holds_name\u001b[0m\u001b[0;34m(\u001b[0m\u001b[0mname\u001b[0m\u001b[0;34m)\u001b[0m\u001b[0;34m:\u001b[0m\u001b[0;34m\u001b[0m\u001b[0;34m\u001b[0m\u001b[0m\n",
      "\u001b[0;32m~/anaconda3/envs/rpz/lib/python3.8/site-packages/pandas/core/accessor.py\u001b[0m in \u001b[0;36m__get__\u001b[0;34m(self, obj, cls)\u001b[0m\n\u001b[1;32m    178\u001b[0m             \u001b[0;31m# we're accessing the attribute of the class, i.e., Dataset.geo\u001b[0m\u001b[0;34m\u001b[0m\u001b[0;34m\u001b[0m\u001b[0;34m\u001b[0m\u001b[0m\n\u001b[1;32m    179\u001b[0m             \u001b[0;32mreturn\u001b[0m \u001b[0mself\u001b[0m\u001b[0;34m.\u001b[0m\u001b[0m_accessor\u001b[0m\u001b[0;34m\u001b[0m\u001b[0;34m\u001b[0m\u001b[0m\n\u001b[0;32m--> 180\u001b[0;31m         \u001b[0maccessor_obj\u001b[0m \u001b[0;34m=\u001b[0m \u001b[0mself\u001b[0m\u001b[0;34m.\u001b[0m\u001b[0m_accessor\u001b[0m\u001b[0;34m(\u001b[0m\u001b[0mobj\u001b[0m\u001b[0;34m)\u001b[0m\u001b[0;34m\u001b[0m\u001b[0;34m\u001b[0m\u001b[0m\n\u001b[0m\u001b[1;32m    181\u001b[0m         \u001b[0;31m# Replace the property with the accessor object. Inspired by:\u001b[0m\u001b[0;34m\u001b[0m\u001b[0;34m\u001b[0m\u001b[0;34m\u001b[0m\u001b[0m\n\u001b[1;32m    182\u001b[0m         \u001b[0;31m# https://www.pydanny.com/cached-property.html\u001b[0m\u001b[0;34m\u001b[0m\u001b[0;34m\u001b[0m\u001b[0;34m\u001b[0m\u001b[0m\n",
      "\u001b[0;32m~/anaconda3/envs/rpz/lib/python3.8/site-packages/pandas/core/strings/accessor.py\u001b[0m in \u001b[0;36m__init__\u001b[0;34m(self, data)\u001b[0m\n\u001b[1;32m    152\u001b[0m         \u001b[0;32mfrom\u001b[0m \u001b[0mpandas\u001b[0m\u001b[0;34m.\u001b[0m\u001b[0mcore\u001b[0m\u001b[0;34m.\u001b[0m\u001b[0marrays\u001b[0m\u001b[0;34m.\u001b[0m\u001b[0mstring_\u001b[0m \u001b[0;32mimport\u001b[0m \u001b[0mStringDtype\u001b[0m\u001b[0;34m\u001b[0m\u001b[0;34m\u001b[0m\u001b[0m\n\u001b[1;32m    153\u001b[0m \u001b[0;34m\u001b[0m\u001b[0m\n\u001b[0;32m--> 154\u001b[0;31m         \u001b[0mself\u001b[0m\u001b[0;34m.\u001b[0m\u001b[0m_inferred_dtype\u001b[0m \u001b[0;34m=\u001b[0m \u001b[0mself\u001b[0m\u001b[0;34m.\u001b[0m\u001b[0m_validate\u001b[0m\u001b[0;34m(\u001b[0m\u001b[0mdata\u001b[0m\u001b[0;34m)\u001b[0m\u001b[0;34m\u001b[0m\u001b[0;34m\u001b[0m\u001b[0m\n\u001b[0m\u001b[1;32m    155\u001b[0m         \u001b[0mself\u001b[0m\u001b[0;34m.\u001b[0m\u001b[0m_is_categorical\u001b[0m \u001b[0;34m=\u001b[0m \u001b[0mis_categorical_dtype\u001b[0m\u001b[0;34m(\u001b[0m\u001b[0mdata\u001b[0m\u001b[0;34m.\u001b[0m\u001b[0mdtype\u001b[0m\u001b[0;34m)\u001b[0m\u001b[0;34m\u001b[0m\u001b[0;34m\u001b[0m\u001b[0m\n\u001b[1;32m    156\u001b[0m         \u001b[0mself\u001b[0m\u001b[0;34m.\u001b[0m\u001b[0m_is_string\u001b[0m \u001b[0;34m=\u001b[0m \u001b[0misinstance\u001b[0m\u001b[0;34m(\u001b[0m\u001b[0mdata\u001b[0m\u001b[0;34m.\u001b[0m\u001b[0mdtype\u001b[0m\u001b[0;34m,\u001b[0m \u001b[0mStringDtype\u001b[0m\u001b[0;34m)\u001b[0m\u001b[0;34m\u001b[0m\u001b[0;34m\u001b[0m\u001b[0m\n",
      "\u001b[0;32m~/anaconda3/envs/rpz/lib/python3.8/site-packages/pandas/core/strings/accessor.py\u001b[0m in \u001b[0;36m_validate\u001b[0;34m(data)\u001b[0m\n\u001b[1;32m    215\u001b[0m \u001b[0;34m\u001b[0m\u001b[0m\n\u001b[1;32m    216\u001b[0m         \u001b[0;32mif\u001b[0m \u001b[0minferred_dtype\u001b[0m \u001b[0;32mnot\u001b[0m \u001b[0;32min\u001b[0m \u001b[0mallowed_types\u001b[0m\u001b[0;34m:\u001b[0m\u001b[0;34m\u001b[0m\u001b[0;34m\u001b[0m\u001b[0m\n\u001b[0;32m--> 217\u001b[0;31m             \u001b[0;32mraise\u001b[0m \u001b[0mAttributeError\u001b[0m\u001b[0;34m(\u001b[0m\u001b[0;34m\"Can only use .str accessor with string values!\"\u001b[0m\u001b[0;34m)\u001b[0m\u001b[0;34m\u001b[0m\u001b[0;34m\u001b[0m\u001b[0m\n\u001b[0m\u001b[1;32m    218\u001b[0m         \u001b[0;32mreturn\u001b[0m \u001b[0minferred_dtype\u001b[0m\u001b[0;34m\u001b[0m\u001b[0;34m\u001b[0m\u001b[0m\n\u001b[1;32m    219\u001b[0m \u001b[0;34m\u001b[0m\u001b[0m\n",
      "\u001b[0;31mAttributeError\u001b[0m: Can only use .str accessor with string values!"
     ]
    }
   ],
   "source": [
    "access[access['AccessionYear'].str.contains('-',na=False)]"
   ]
  },
  {
   "cell_type": "code",
   "execution_count": 177,
   "id": "voluntary-miller",
   "metadata": {},
   "outputs": [],
   "source": [
    "museum_set['AccessionYear'] = np.where(museum_set['AccessionYear']=='2005-02-15',2005,museum_set['AccessionYear'])\n",
    "museum_set['AccessionYear'] = np.where(museum_set['AccessionYear']=='2020-03-23',2020,museum_set['AccessionYear'])"
   ]
  },
  {
   "cell_type": "code",
   "execution_count": 178,
   "id": "vocal-harvey",
   "metadata": {},
   "outputs": [],
   "source": [
    "museum_set['AccessionYear'] = museum_set['AccessionYear'].astype('int32')"
   ]
  },
  {
   "cell_type": "code",
   "execution_count": 179,
   "id": "several-lodge",
   "metadata": {},
   "outputs": [],
   "source": [
    "year_accession = value_count('AccessionYear')"
   ]
  },
  {
   "cell_type": "code",
   "execution_count": 180,
   "id": "willing-nothing",
   "metadata": {},
   "outputs": [
    {
     "data": {
      "text/html": [
       "<div>\n",
       "<style scoped>\n",
       "    .dataframe tbody tr th:only-of-type {\n",
       "        vertical-align: middle;\n",
       "    }\n",
       "\n",
       "    .dataframe tbody tr th {\n",
       "        vertical-align: top;\n",
       "    }\n",
       "\n",
       "    .dataframe thead th {\n",
       "        text-align: right;\n",
       "    }\n",
       "</style>\n",
       "<table border=\"1\" class=\"dataframe\">\n",
       "  <thead>\n",
       "    <tr style=\"text-align: right;\">\n",
       "      <th></th>\n",
       "      <th>Count of works</th>\n",
       "      <th>AccessionYear</th>\n",
       "    </tr>\n",
       "  </thead>\n",
       "  <tbody>\n",
       "    <tr>\n",
       "      <th>0</th>\n",
       "      <td>443403</td>\n",
       "      <td>0</td>\n",
       "    </tr>\n",
       "    <tr>\n",
       "      <th>1</th>\n",
       "      <td>7599</td>\n",
       "      <td>1994</td>\n",
       "    </tr>\n",
       "    <tr>\n",
       "      <th>2</th>\n",
       "      <td>5826</td>\n",
       "      <td>1963</td>\n",
       "    </tr>\n",
       "    <tr>\n",
       "      <th>3</th>\n",
       "      <td>1459</td>\n",
       "      <td>2005</td>\n",
       "    </tr>\n",
       "    <tr>\n",
       "      <th>4</th>\n",
       "      <td>1098</td>\n",
       "      <td>2011</td>\n",
       "    </tr>\n",
       "  </tbody>\n",
       "</table>\n",
       "</div>"
      ],
      "text/plain": [
       "   Count of works  AccessionYear\n",
       "0          443403              0\n",
       "1            7599           1994\n",
       "2            5826           1963\n",
       "3            1459           2005\n",
       "4            1098           2011"
      ]
     },
     "execution_count": 180,
     "metadata": {},
     "output_type": "execute_result"
    }
   ],
   "source": [
    "year_accession.head()"
   ]
  },
  {
   "cell_type": "code",
   "execution_count": 181,
   "id": "demographic-column",
   "metadata": {},
   "outputs": [],
   "source": [
    "year_accession.drop(year_accession[(year_accession['Count of works']<500) | (year_accession['AccessionYear']==\\\n",
    "                                                                              0)].index,inplace=True)"
   ]
  },
  {
   "cell_type": "code",
   "execution_count": 182,
   "id": "anticipated-bulgarian",
   "metadata": {},
   "outputs": [
    {
     "data": {
      "image/png": "[encoded data removed]",
      "text/plain": [
       "<Figure size 432x288 with 1 Axes>"
      ]
     },
     "metadata": {},
     "output_type": "display_data"
    }
   ],
   "source": [
    "#plt.xlim(1800,2021)\n",
    "plt.title('Years the museum got the most accessions')\n",
    "g = sns.barplot(data = year_accession,x= 'AccessionYear',y='Count of works')\n",
    "g.set(xlim=(1, None))\n",
    "g.set_xticklabels(g.get_xticklabels(),rotation = 90)\n",
    "fig = g.get_figure()\n",
    "fig.savefig(\"Years the museum got the most accessions.png\")\n",
    "#plt.show()"
   ]
  },
  {
   "cell_type": "markdown",
   "id": "indonesian-tension",
   "metadata": {},
   "source": [
    "We can see that the biggest contribution to our collection was in 1963 and 1994."
   ]
  },
  {
   "cell_type": "markdown",
   "id": "happy-secondary",
   "metadata": {},
   "source": [
    "## Checking the gender"
   ]
  },
  {
   "cell_type": "code",
   "execution_count": 183,
   "id": "systematic-medicaid",
   "metadata": {},
   "outputs": [
    {
     "data": {
      "text/plain": [
       "Index(['Object Number', 'Is Highlight', 'Is Timeline Work', 'Is Public Domain',\n",
       "       'Object ID', 'Gallery Number', 'Department', 'AccessionYear',\n",
       "       'Object Name', 'Title', 'Culture', 'Period', 'Dynasty', 'Reign',\n",
       "       'Portfolio', 'Constiuent ID', 'Artist Role', 'Artist Prefix',\n",
       "       'Artist Display Name', 'Artist Display Bio', 'Artist Suffix',\n",
       "       'Artist Alpha Sort', 'Artist Nationality', 'Artist Begin Date',\n",
       "       'Artist End Date', 'Artist Gender', 'Artist ULAN URL',\n",
       "       'Artist Wikidata URL', 'Object Date', 'Object Begin Date',\n",
       "       'Object End Date', 'Medium', 'Dimensions', 'Credit Line',\n",
       "       'Geography Type', 'City', 'State', 'County', 'Country', 'Region',\n",
       "       'Subregion', 'Locale', 'Locus', 'Excavation', 'River', 'Classification',\n",
       "       'Rights and Reproduction', 'Link Resource', 'Object Wikidata URL',\n",
       "       'Metadata Date', 'Repository', 'Tags', 'Tags AAT URL',\n",
       "       'Tags Wikidata URL', 'Creation Time'],\n",
       "      dtype='object')"
      ]
     },
     "execution_count": 183,
     "metadata": {},
     "output_type": "execute_result"
    }
   ],
   "source": [
    "museum_set.columns"
   ]
  },
  {
   "cell_type": "code",
   "execution_count": 184,
   "id": "prime-johns",
   "metadata": {},
   "outputs": [
    {
     "data": {
      "text/plain": [
       "missing                                                                                                                                          373743\n",
       "|                                                                                                                                                 56241\n",
       "||                                                                                                                                                20847\n",
       "female                                                                                                                                             8563\n",
       "|||                                                                                                                                                6145\n",
       "                                                                                                                                                  ...  \n",
       "||||||||||||female|||||                                                                                                                               1\n",
       "female|||||||||||||||||||||||||||||female||female||||                                                                                                 1\n",
       "||||||||||||||||||||||||||||||female||||||||||||||female|||                                                                                           1\n",
       "female|female|female|female|female|female|female||female|female|female|female|female|female|female|female|female|female||female|female|female         1\n",
       "||||||||female||||||||||||||||||||                                                                                                                    1\n",
       "Name: Artist Gender, Length: 278, dtype: int64"
      ]
     },
     "execution_count": 184,
     "metadata": {},
     "output_type": "execute_result"
    }
   ],
   "source": [
    "museum_set['Artist Gender'].value_counts()"
   ]
  },
  {
   "cell_type": "markdown",
   "id": "multiple-conservative",
   "metadata": {},
   "source": [
    "May be need to remake some of females with nlp"
   ]
  },
  {
   "cell_type": "code",
   "execution_count": null,
   "id": "collectible-finance",
   "metadata": {},
   "outputs": [],
   "source": []
  },
  {
   "cell_type": "markdown",
   "id": "clinical-telling",
   "metadata": {},
   "source": [
    "## The longest creation time"
   ]
  },
  {
   "cell_type": "code",
   "execution_count": 140,
   "id": "pediatric-transsexual",
   "metadata": {},
   "outputs": [],
   "source": [
    "museum_set['Creation Time'] = museum_set['Object End Date'] - museum_set['Object Begin Date']"
   ]
  },
  {
   "cell_type": "code",
   "execution_count": 141,
   "id": "quantitative-marketing",
   "metadata": {},
   "outputs": [
    {
     "name": "stdout",
     "output_type": "stream",
     "text": [
      "475527\n"
     ]
    }
   ],
   "source": [
    "creation = value_count('Creation Time')\n",
    "#creation.head()\n",
    "#print(museum_set[['Object Begin Date','Object End Date','Title','Country','Object Date']][museum_set['Creation Time']==museum_set['Creation Time'].max()])\n",
    "print(creation['Count of works'].sum())\n",
    "creation.drop(creation[creation['Count of works']<10000].index,inplace=True)"
   ]
  },
  {
   "cell_type": "markdown",
   "id": "broken-butler",
   "metadata": {},
   "source": [
    "The longest uncertainty is known for Levallois tools of Paleolithic, they make ca. 240,000–40,000 B.C."
   ]
  },
  {
   "cell_type": "code",
   "execution_count": 142,
   "id": "brilliant-proceeding",
   "metadata": {},
   "outputs": [
    {
     "data": {
      "text/plain": [
       "0    154626\n",
       "1     40463\n",
       "2     32776\n",
       "3     16899\n",
       "4     14587\n",
       "Name: Count of works, dtype: int64"
      ]
     },
     "execution_count": 142,
     "metadata": {},
     "output_type": "execute_result"
    }
   ],
   "source": [
    "creation['Count of works'].head()"
   ]
  },
  {
   "cell_type": "code",
   "execution_count": 150,
   "id": "disabled-dispatch",
   "metadata": {},
   "outputs": [
    {
     "data": {
      "image/png": "[encoded data removed]",
      "text/plain": [
       "<Figure size 432x288 with 1 Axes>"
      ]
     },
     "metadata": {},
     "output_type": "display_data"
    }
   ],
   "source": [
    "#plt.xlim(1800,2021)\n",
    "plt.title('Common Time to create a piece of art')\n",
    "g = sns.lineplot(data =creation,x= 'Creation Time',y='Count of works')\n",
    "#g.set_xticklabels(g.get_xticklabels(),rotation = 90)\n",
    "plt.xlabel('Creation Time in years')\n",
    "plt.savefig('Time to create a piece of art.png')\n",
    "#plt.show()"
   ]
  },
  {
   "cell_type": "markdown",
   "id": "wireless-merchant",
   "metadata": {},
   "source": [
    "There are about 40000 works with 100 creation time in years. It can be because of the uncertainty, it needs checking."
   ]
  },
  {
   "cell_type": "code",
   "execution_count": 79,
   "id": "official-volume",
   "metadata": {},
   "outputs": [
    {
     "data": {
      "text/html": [
       "<div>\n",
       "<style scoped>\n",
       "    .dataframe tbody tr th:only-of-type {\n",
       "        vertical-align: middle;\n",
       "    }\n",
       "\n",
       "    .dataframe tbody tr th {\n",
       "        vertical-align: top;\n",
       "    }\n",
       "\n",
       "    .dataframe thead th {\n",
       "        text-align: right;\n",
       "    }\n",
       "</style>\n",
       "<table border=\"1\" class=\"dataframe\">\n",
       "  <thead>\n",
       "    <tr style=\"text-align: right;\">\n",
       "      <th></th>\n",
       "      <th>Object Begin Date</th>\n",
       "      <th>Object End Date</th>\n",
       "      <th>Title</th>\n",
       "      <th>Country</th>\n",
       "      <th>Object Date</th>\n",
       "    </tr>\n",
       "  </thead>\n",
       "  <tbody>\n",
       "    <tr>\n",
       "      <th>364317</th>\n",
       "      <td>-400000</td>\n",
       "      <td>-240000</td>\n",
       "      <td>biface, commonly referred to as a hand ax</td>\n",
       "      <td>egypt</td>\n",
       "      <td>ca. 400,000–240,000 b.c.</td>\n",
       "    </tr>\n",
       "    <tr>\n",
       "      <th>364325</th>\n",
       "      <td>-400000</td>\n",
       "      <td>-240000</td>\n",
       "      <td>biface, commonly referred to as a hand ax</td>\n",
       "      <td>egypt</td>\n",
       "      <td>ca. 400,000–240,000 b.c.</td>\n",
       "    </tr>\n",
       "  </tbody>\n",
       "</table>\n",
       "</div>"
      ],
      "text/plain": [
       "        Object Begin Date  Object End Date  \\\n",
       "364317            -400000          -240000   \n",
       "364325            -400000          -240000   \n",
       "\n",
       "                                            Title Country  \\\n",
       "364317  biface, commonly referred to as a hand ax   egypt   \n",
       "364325  biface, commonly referred to as a hand ax   egypt   \n",
       "\n",
       "                     Object Date  \n",
       "364317  ca. 400,000–240,000 b.c.  \n",
       "364325  ca. 400,000–240,000 b.c.  "
      ]
     },
     "execution_count": 79,
     "metadata": {},
     "output_type": "execute_result"
    }
   ],
   "source": [
    "museum_set[['Object Begin Date','Object End Date','Title','Country','Object Date']][museum_set['Object Begin Date']==museum_set['Object Begin Date'].min()]"
   ]
  },
  {
   "cell_type": "code",
   "execution_count": 80,
   "id": "sophisticated-stream",
   "metadata": {},
   "outputs": [
    {
     "data": {
      "text/plain": [
       "Index(['Object Number', 'Is Highlight', 'Is Timeline Work', 'Is Public Domain',\n",
       "       'Object ID', 'Gallery Number', 'Department', 'AccessionYear',\n",
       "       'Object Name', 'Title', 'Culture', 'Period', 'Dynasty', 'Reign',\n",
       "       'Portfolio', 'Constiuent ID', 'Artist Role', 'Artist Prefix',\n",
       "       'Artist Display Name', 'Artist Display Bio', 'Artist Suffix',\n",
       "       'Artist Alpha Sort', 'Artist Nationality', 'Artist Begin Date',\n",
       "       'Artist End Date', 'Artist Gender', 'Artist ULAN URL',\n",
       "       'Artist Wikidata URL', 'Object Date', 'Object Begin Date',\n",
       "       'Object End Date', 'Medium', 'Dimensions', 'Credit Line',\n",
       "       'Geography Type', 'City', 'State', 'County', 'Country', 'Region',\n",
       "       'Subregion', 'Locale', 'Locus', 'Excavation', 'River', 'Classification',\n",
       "       'Rights and Reproduction', 'Link Resource', 'Object Wikidata URL',\n",
       "       'Metadata Date', 'Repository', 'Tags', 'Tags AAT URL',\n",
       "       'Tags Wikidata URL', 'Creation Time'],\n",
       "      dtype='object')"
      ]
     },
     "execution_count": 80,
     "metadata": {},
     "output_type": "execute_result"
    }
   ],
   "source": [
    "museum_set.columns"
   ]
  },
  {
   "cell_type": "code",
   "execution_count": 81,
   "id": "occupational-organ",
   "metadata": {},
   "outputs": [
    {
     "data": {
      "text/plain": [
       "the jefferson r. burdick collection, gift of jefferson r. burdick                          37003\n",
       "gift of dietrich von bothmer, distinguished research curator, greek and roman art, 2011    16270\n",
       "walker evans archive, 1994                                                                  7951\n",
       "the cesnola collection, purchased by subscription, 1874–76                                  5360\n",
       "gift of j. pierpont morgan, 1917                                                            4574\n",
       "                                                                                           ...  \n",
       "gift of mrs. hamilton king, 1956                                                               1\n",
       "elisha whittelsey fund                                                                         1\n",
       "gift of morihiro and sumiko ogawa, in memory of bumpei usui, 2000                              1\n",
       "bequest of alice e. getty, 1948                                                                1\n",
       "                                                                                               1\n",
       "Name: Credit Line, Length: 34446, dtype: int64"
      ]
     },
     "execution_count": 81,
     "metadata": {},
     "output_type": "execute_result"
    }
   ],
   "source": [
    "museum_set['Credit Line'].value_counts()"
   ]
  },
  {
   "cell_type": "code",
   "execution_count": null,
   "id": "mounted-indication",
   "metadata": {},
   "outputs": [],
   "source": []
  },
  {
   "cell_type": "code",
   "execution_count": null,
   "id": "blank-banana",
   "metadata": {},
   "outputs": [],
   "source": []
  },
  {
   "cell_type": "code",
   "execution_count": 82,
   "id": "blind-courtesy",
   "metadata": {},
   "outputs": [
    {
     "data": {
      "text/plain": [
       "missing                443519\n",
       "paris                    4626\n",
       "nishapur                 3822\n",
       "london                   2294\n",
       "new york                 2284\n",
       "                        ...  \n",
       "komindimbit village         1\n",
       "saudakan                    1\n",
       "frankfurt/main              1\n",
       "plauen                      1\n",
       "mandi                       1\n",
       "Name: City, Length: 2532, dtype: int64"
      ]
     },
     "execution_count": 82,
     "metadata": {},
     "output_type": "execute_result"
    }
   ],
   "source": [
    "museum_set['City'].value_counts()"
   ]
  },
  {
   "cell_type": "markdown",
   "id": "individual-breathing",
   "metadata": {},
   "source": [
    "4626 of creations is from Paris. Still we have to separate strings to take out all Parises."
   ]
  },
  {
   "cell_type": "code",
   "execution_count": 83,
   "id": "monthly-guyana",
   "metadata": {},
   "outputs": [
    {
     "data": {
      "text/plain": [
       "prints                                                80135\n",
       "missing                                               74543\n",
       "prints|ephemera                                       28271\n",
       "photographs                                           26964\n",
       "drawings                                              22589\n",
       "                                                      ...  \n",
       "membranophone-single-headed / kettle drum-friction        1\n",
       "transparencies|photographs                                1\n",
       "textiles-embroidered|textiles-dyed and embroidered        1\n",
       "ephemera|books                                            1\n",
       "lapidary work-gabbro                                      1\n",
       "Name: Classification, Length: 1191, dtype: int64"
      ]
     },
     "execution_count": 83,
     "metadata": {},
     "output_type": "execute_result"
    }
   ],
   "source": [
    "museum_set['Classification'].value_counts()"
   ]
  },
  {
   "cell_type": "markdown",
   "id": "korean-liver",
   "metadata": {},
   "source": [
    "## What word is the most popular in the name of artworks?"
   ]
  },
  {
   "cell_type": "code",
   "execution_count": 144,
   "id": "negative-rider",
   "metadata": {},
   "outputs": [
    {
     "data": {
      "application/javascript": [
       "\n",
       "        if (window._pyforest_update_imports_cell) { window._pyforest_update_imports_cell('import nltk'); }\n",
       "    "
      ],
      "text/plain": [
       "<IPython.core.display.Javascript object>"
      ]
     },
     "metadata": {},
     "output_type": "display_data"
    },
    {
     "name": "stderr",
     "output_type": "stream",
     "text": [
      "[nltk_data] Downloading package punkt to /root/nltk_data...\n",
      "[nltk_data]   Package punkt is already up-to-date!\n"
     ]
    },
    {
     "data": {
      "text/plain": [
       "True"
      ]
     },
     "execution_count": 144,
     "metadata": {},
     "output_type": "execute_result"
    }
   ],
   "source": [
    "nltk.download('punkt')"
   ]
  },
  {
   "cell_type": "code",
   "execution_count": 145,
   "id": "negative-preservation",
   "metadata": {},
   "outputs": [],
   "source": [
    "from collections import Counter"
   ]
  },
  {
   "cell_type": "code",
   "execution_count": 149,
   "id": "executive-framing",
   "metadata": {},
   "outputs": [
    {
     "data": {
      "application/javascript": [
       "\n",
       "        if (window._pyforest_update_imports_cell) { window._pyforest_update_imports_cell('import nltk'); }\n",
       "    "
      ],
      "text/plain": [
       "<IPython.core.display.Javascript object>"
      ]
     },
     "metadata": {},
     "output_type": "display_data"
    },
    {
     "name": "stdout",
     "output_type": "stream",
     "text": [
      "            Frequency\n",
      "Word                 \n",
      "series          35195\n",
      "missing         29337\n",
      "fragment        29186\n",
      "de              22171\n",
      "terracotta      19894\n",
      "issued          18519\n",
      "cigarettes      17492\n",
      "plate           12064\n",
      "(drinking       11488\n",
      "cup)            10843\n",
      "&               10312\n",
      "design          10011\n",
      "kylix            9328\n",
      "new              9258\n",
      "promote          9251\n",
      "actresses        8613\n",
      "la               8499\n",
      "tobacco          7730\n",
      "et               7661\n",
      "les              7371\n",
      "company          7140\n",
      "old              6803\n",
      "le               6654\n",
      "duke             5997\n",
      "two              5901\n",
      "card             5807\n",
      "dress            5797\n",
      "piece            5399\n",
      "co.              5363\n",
      "bowl             4845\n",
      "man              4837\n",
      "actors           4829\n",
      "cards            4742\n",
      "no.              4709\n",
      "judge            4630\n",
      "york             4541\n",
      "glass            4496\n",
      "textile          4444\n",
      "woman            4398\n",
      "kinney           4369\n",
      "saint            4355\n",
      "evening          4287\n",
      "des              4226\n",
      "vase             4164\n",
      "american         4104\n",
      "head             4103\n",
      "sons             3930\n",
      "di               3919\n",
      "figure           3892\n",
      "portrait         3851\n"
     ]
    },
    {
     "data": {
      "image/png": "[encoded data removed]",
      "text/plain": [
       "<Figure size 1152x720 with 1 Axes>"
      ]
     },
     "metadata": {},
     "output_type": "display_data"
    }
   ],
   "source": [
    "\n",
    "top_N = 50\n",
    "\n",
    "\n",
    "stopwords = nltk.corpus.stopwords.words('english')\n",
    "# RegEx for stopwords\n",
    "RE_stopwords = r'\\b(?:{})\\b | (missing)'.format('|'.join(stopwords))\n",
    "# replace '|'-->' ' and drop all stopwords\n",
    "words = (museum_set.Title\n",
    "           .str.lower()\n",
    "           .replace([r'\\|', RE_stopwords], [' ', ''], regex=True)\n",
    "           .str.cat(sep=' ')\n",
    "           .split()\n",
    ")\n",
    "\n",
    "# generate DF out of Counter\n",
    "rslt = pd.DataFrame(Counter(words).most_common(top_N),\n",
    "                    columns=['Word', 'Frequency']).set_index('Word')\n",
    "print(rslt)\n",
    "\n",
    "# plot\n",
    "#plt.ylabel('Count of occurrences')\n",
    "#plt.title('Most common words in titles of pieces of art')\n",
    "ax = rslt.plot.bar(rot=90, figsize=(16,10), width=0.8,\\\n",
    "              title='Most common words in titles of pieces of art')\n",
    "ax.set_ylabel('Count of occurrences')\n",
    "plt.savefig('Count of words.png')\n",
    "#xticks(rotation=90)"
   ]
  },
  {
   "cell_type": "code",
   "execution_count": 338,
   "id": "seasonal-sequence",
   "metadata": {},
   "outputs": [
    {
     "data": {
      "text/plain": [
       "Artist Display Name                                              Department         \n",
       "allen & ginter                                                   drawings and prints    2960\n",
       "kinney brothers tobacco company                                  drawings and prints    2943\n",
       "goodwin & company                                                drawings and prints    2651\n",
       "w. duke, sons & co.                                              drawings and prints    2370\n",
       "turkish trophies cigarettes                                      drawings and prints     738\n",
       "                                                                                        ... \n",
       "turco american tobacco company, new york                         drawings and prints       1\n",
       "neil mccoull co.                                                 drawings and prints       1\n",
       "paul gavarni [chevalier]|jte. bourmancé|roger et cie             drawings and prints       1\n",
       "thomas h. hall tobacco|william shakespeare|heppenheimer & mauer  drawings and prints       1\n",
       "aaron rose                                                       photographs               1\n",
       "Length: 119, dtype: int64"
      ]
     },
     "execution_count": 338,
     "metadata": {},
     "output_type": "execute_result"
    }
   ],
   "source": [
    "museum_set[['Artist Display Name','Department']][museum_set['Title'].str.contains('cigarettes')].value_counts()"
   ]
  },
  {
   "cell_type": "markdown",
   "id": "frozen-mouth",
   "metadata": {},
   "source": [
    "All the pieces of art, which contain word 'cigarettes' in were contributed by tobacco companies are owned by the Department of Drawings and Prints."
   ]
  },
  {
   "cell_type": "code",
   "execution_count": null,
   "id": "specific-checkout",
   "metadata": {},
   "outputs": [],
   "source": []
  },
  {
   "cell_type": "markdown",
   "id": "unnecessary-throat",
   "metadata": {},
   "source": [
    "## Cluster Artists of Paintings"
   ]
  },
  {
   "cell_type": "code",
   "execution_count": 180,
   "id": "young-portland",
   "metadata": {},
   "outputs": [
    {
     "data": {
      "text/plain": [
       "print                               98733\n",
       "photograph                          28436\n",
       "drawing                             25650\n",
       "book                                13340\n",
       "fragment                             9538\n",
       "                                    ...  \n",
       "yonggo                                  1\n",
       "tabernacle altar                        1\n",
       "spear with detachable knife head        1\n",
       "overdoor panels                         1\n",
       "saint's cuirass (hotokē-do)             1\n",
       "Name: Object Name, Length: 27255, dtype: int64"
      ]
     },
     "execution_count": 180,
     "metadata": {},
     "output_type": "execute_result"
    }
   ],
   "source": [
    "museum_set['Object Name'].value_counts()"
   ]
  },
  {
   "cell_type": "code",
   "execution_count": 213,
   "id": "stock-belarus",
   "metadata": {},
   "outputs": [
    {
     "data": {
      "text/plain": [
       "Index(['Object Number', 'Is Highlight', 'Is Timeline Work', 'Is Public Domain',\n",
       "       'Object ID', 'Gallery Number', 'Department', 'AccessionYear',\n",
       "       'Object Name', 'Title', 'Culture', 'Period', 'Dynasty', 'Reign',\n",
       "       'Portfolio', 'Constiuent ID', 'Artist Role', 'Artist Prefix',\n",
       "       'Artist Display Name', 'Artist Display Bio', 'Artist Suffix',\n",
       "       'Artist Alpha Sort', 'Artist Nationality', 'Artist Begin Date',\n",
       "       'Artist End Date', 'Artist Gender', 'Artist ULAN URL',\n",
       "       'Artist Wikidata URL', 'Object Date', 'Object Begin Date',\n",
       "       'Object End Date', 'Medium', 'Dimensions', 'Credit Line',\n",
       "       'Geography Type', 'City', 'State', 'County', 'Country', 'Region',\n",
       "       'Subregion', 'Locale', 'Locus', 'Excavation', 'River', 'Classification',\n",
       "       'Rights and Reproduction', 'Link Resource', 'Object Wikidata URL',\n",
       "       'Metadata Date', 'Repository', 'Tags', 'Tags AAT URL',\n",
       "       'Tags Wikidata URL', 'Creation Time'],\n",
       "      dtype='object')"
      ]
     },
     "execution_count": 213,
     "metadata": {},
     "output_type": "execute_result"
    }
   ],
   "source": [
    "drawing_creators.columns"
   ]
  },
  {
   "cell_type": "code",
   "execution_count": 218,
   "id": "limiting-magnet",
   "metadata": {},
   "outputs": [
    {
     "data": {
      "text/plain": [
       "1900    364\n",
       "1950    149\n",
       "1899    146\n",
       "1905    132\n",
       "1930    124\n",
       "       ... \n",
       "2018      1\n",
       "2078      1\n",
       "1450      1\n",
       "2009      1\n",
       "1718      1\n",
       "Name: Object End Date, Length: 551, dtype: int64"
      ]
     },
     "execution_count": 218,
     "metadata": {},
     "output_type": "execute_result"
    }
   ],
   "source": [
    "drawing_creators = pd.DataFrame(museum_set[museum_set['Object Name'] == 'book'])\n",
    "drawing_creators['Object End Date'].value_counts()"
   ]
  },
  {
   "cell_type": "code",
   "execution_count": null,
   "id": "tender-advancement",
   "metadata": {},
   "outputs": [],
   "source": [
    "years_of_creation"
   ]
  },
  {
   "cell_type": "code",
   "execution_count": 221,
   "id": "brave-preserve",
   "metadata": {},
   "outputs": [],
   "source": [
    "from fpdf import FPDF"
   ]
  },
  {
   "cell_type": "code",
   "execution_count": 220,
   "id": "secondary-shanghai",
   "metadata": {},
   "outputs": [
    {
     "name": "stdout",
     "output_type": "stream",
     "text": [
      "Collecting fpdf\n",
      "  Downloading fpdf-1.7.2.tar.gz (39 kB)\n",
      "Building wheels for collected packages: fpdf\n",
      "  Building wheel for fpdf (setup.py) ... \u001b[?25ldone\n",
      "\u001b[?25h  Created wheel for fpdf: filename=fpdf-1.7.2-py2.py3-none-any.whl size=40722 sha256=574ac933515f8917586ab1dc922d22fb3c055c9e0b4e5bcd38e71141bac215f5\n",
      "  Stored in directory: /root/.cache/pip/wheels/b4/7f/00/f90ea7c44f8b921477205baa66a7aaf04be398f743ea946fd5\n",
      "Successfully built fpdf\n",
      "Installing collected packages: fpdf\n",
      "Successfully installed fpdf-1.7.2\n"
     ]
    }
   ],
   "source": [
    "!pip install fpdf"
   ]
  },
  {
   "cell_type": "code",
   "execution_count": null,
   "id": "missing-vector",
   "metadata": {},
   "outputs": [],
   "source": []
  }
 ],
 "metadata": {
  "kernelspec": {
   "display_name": "Python 3",
   "language": "python",
   "name": "python3"
  },
  "language_info": {
   "codemirror_mode": {
    "name": "ipython",
    "version": 3
   },
   "file_extension": ".py",
   "mimetype": "text/x-python",
   "name": "python",
   "nbconvert_exporter": "python",
   "pygments_lexer": "ipython3",
   "version": "3.8.5"
  }
 },
 "nbformat": 4,
 "nbformat_minor": 5
}
